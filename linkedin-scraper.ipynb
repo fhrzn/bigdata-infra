{
 "cells": [
  {
   "cell_type": "code",
   "execution_count": 1,
   "metadata": {},
   "outputs": [],
   "source": [
    "from selenium import webdriver\n",
    "from selenium.webdriver.common.keys import Keys\n",
    "from selenium.webdriver.common.by import By\n",
    "from selenium.webdriver.common.action_chains import ActionChains\n",
    "from selenium.webdriver.support.ui import WebDriverWait\n",
    "from selenium.webdriver.support import expected_conditions as EC\n",
    "from bs4 import BeautifulSoup\n",
    "import time\n",
    "import pandas as pd\n",
    "import re"
   ]
  },
  {
   "cell_type": "markdown",
   "metadata": {},
   "source": [
    "### Connections Scraper"
   ]
  },
  {
   "cell_type": "code",
   "execution_count": 32,
   "metadata": {},
   "outputs": [],
   "source": [
    "def browser_wait(driver, element, locator=By.XPATH, timeout=10):\n",
    "    return WebDriverWait(driver, timeout).until(\n",
    "        EC.visibility_of_element_located((locator, element))\n",
    "    )\n",
    "\n",
    "def scroll(driver, start=0, end='document.body.scrollHeight'):\n",
    "    driver.execute_script(f'window.scrollTo({start}, {end});')    "
   ]
  },
  {
   "cell_type": "code",
   "execution_count": 5,
   "metadata": {},
   "outputs": [],
   "source": [
    "# env\n",
    "USERNAME = 'fahri.lafa@gmail.com'\n",
    "PASSWORD = '1qw23er4'"
   ]
  },
  {
   "cell_type": "code",
   "execution_count": 15,
   "metadata": {},
   "outputs": [
    {
     "name": "stdout",
     "output_type": "stream",
     "text": [
      "Opening site...\n",
      "Attempting to login...\n",
      "Submit login...\n",
      "Move to `My Network` page\n",
      "Scrolling...\n",
      "Wait 5s...\n",
      "Update last height\n",
      "Scrolling...\n",
      "Wait 5s...\n",
      "Update last height\n",
      "Scrolling...\n",
      "Wait 5s...\n",
      "Looking for load more button...\n",
      "Wait 5s...\n",
      "Scrolling...\n",
      "Update last height\n",
      "Scrolling...\n",
      "Wait 5s...\n",
      "Update last height\n",
      "Scrolling...\n",
      "Wait 5s...\n",
      "Update last height\n",
      "Scrolling...\n",
      "Wait 5s...\n",
      "Update last height\n",
      "Scrolling...\n",
      "Wait 5s...\n",
      "Update last height\n",
      "Scrolling...\n",
      "Wait 5s...\n",
      "Update last height\n",
      "Scrolling...\n",
      "Wait 5s...\n",
      "Update last height\n",
      "Scrolling...\n",
      "Wait 5s...\n",
      "Update last height\n",
      "Scrolling...\n",
      "Wait 5s...\n",
      "Update last height\n",
      "Scrolling...\n",
      "Wait 5s...\n",
      "Update last height\n",
      "Scrolling...\n",
      "Wait 5s...\n",
      "Update last height\n",
      "Scrolling...\n",
      "Wait 5s...\n",
      "Update last height\n",
      "Scrolling...\n",
      "Wait 5s...\n",
      "Update last height\n",
      "Scrolling...\n",
      "Wait 5s...\n",
      "Update last height\n",
      "Scrolling...\n",
      "Wait 5s...\n",
      "Update last height\n",
      "Scrolling...\n",
      "Wait 5s...\n",
      "Update last height\n",
      "Scrolling...\n",
      "Wait 5s...\n",
      "Update last height\n",
      "Scrolling...\n",
      "Wait 5s...\n",
      "Update last height\n",
      "Scrolling...\n",
      "Wait 5s...\n",
      "Update last height\n",
      "Scrolling...\n",
      "Wait 5s...\n",
      "Update last height\n",
      "Scrolling...\n",
      "Wait 5s...\n",
      "Update last height\n",
      "Scrolling...\n",
      "Wait 5s...\n",
      "Looking for load more button...\n",
      "Load more button not found! It seems we are reached the end\n",
      "Get output...\n",
      "Write output...\n",
      "Done. Quitting...\n"
     ]
    }
   ],
   "source": [
    "# specify chrome options\n",
    "options = webdriver.ChromeOptions()\n",
    "options.add_argument('--incognito')\n",
    "options.add_argument('--disable-gpu')\n",
    "options.add_argument('--disable-extensions')\n",
    "options.add_argument('--headless')\n",
    "browser = webdriver.Chrome(options=options)\n",
    "\n",
    "# open the site\n",
    "print('Opening site...')\n",
    "browser.get('https://linkedin.com')\n",
    "\n",
    "# move to login page\n",
    "try:    \n",
    "    login_btn = browser_wait(browser, '/html/body/nav/div/a[2]')\n",
    "    login_btn.click()\n",
    "except:\n",
    "    print('Cannot find login button!')\n",
    "\n",
    "# fill credentials\n",
    "print('Attempting to login...')\n",
    "try:\n",
    "    email_field = browser_wait(browser, '#username', locator=By.CSS_SELECTOR)\n",
    "    pwd_field = browser_wait(browser, '#password', locator=By.CSS_SELECTOR)\n",
    "    # insert email password\n",
    "    email_field.send_keys(USERNAME)\n",
    "    pwd_field.send_keys(PASSWORD)\n",
    "    # submit\n",
    "    time.sleep(1.5)\n",
    "    pwd_field.send_keys(Keys.RETURN)\n",
    "    print('Submit login...')\n",
    "except:\n",
    "    print('Cannot find email or passowrd field!')\n",
    "\n",
    "# go to My Network page\n",
    "print('Move to `My Network` page')\n",
    "browser.get('https://www.linkedin.com/mynetwork/invite-connect/connections/')\n",
    "\n",
    "# scroll to bottom\n",
    "last_height = browser.execute_script('return document.body.scrollHeight')\n",
    "wait_scroll = 5\n",
    "while True:\n",
    "    print('Scrolling...')\n",
    "    # scroll until the last record\n",
    "    scroll(browser)\n",
    "    print('Wait 5s...')\n",
    "    time.sleep(5)\n",
    "    new_height = browser.execute_script('return document.body.scrollHeight')\n",
    "    # if scroll reach the end\n",
    "    if new_height == last_height:\n",
    "        try:\n",
    "            # look for load_more button\n",
    "            print('Looking for load more button...')\n",
    "            # load_more = browser_wait(browser, '/html/body/div[7]/div[3]/div/div/div/div/div[2]/div/div/main/div/section/div[2]/div[2]/div/button')\n",
    "            load_more = browser_wait(browser, 'scaffold-finite-scroll__load-button', locator=By.CLASS_NAME)\n",
    "            load_more.click()\n",
    "            print('Wait 5s...')\n",
    "            time.sleep(5)\n",
    "            # scroll again\n",
    "            print('Scrolling...')\n",
    "            scroll(browser)\n",
    "        except:\n",
    "            # no more data\n",
    "            print('Load more button not found! It seems we are reached the end')\n",
    "            break\n",
    "    # update last height\n",
    "    print('Update last height')\n",
    "    last_height = new_height\n",
    "            \n",
    "# get raw html\n",
    "print('Get output...')\n",
    "my_networks = BeautifulSoup(browser.page_source.encode('utf-8'), 'html')\n",
    "my_networks.prettify()\n",
    "\n",
    "# write html to file\n",
    "print('Write output...')\n",
    "with open('my_networks.html', 'w', encoding='utf-8') as w:\n",
    "    w.write(str(my_networks))\n",
    "\n",
    "# # anaylzing html tags\n",
    "# print('Analyzing html tags...')\n",
    "\n",
    "# quit browser\n",
    "print('Done. Quitting...')\n",
    "time.sleep(5)\n",
    "\n",
    "browser.close()"
   ]
  },
  {
   "cell_type": "code",
   "execution_count": 17,
   "metadata": {},
   "outputs": [
    {
     "data": {
      "text/plain": [
       "839"
      ]
     },
     "execution_count": 17,
     "metadata": {},
     "output_type": "execute_result"
    }
   ],
   "source": [
    "containers = my_networks.findAll('li', {'class': 'mn-connection-card artdeco-list'})\n",
    "len(containers)"
   ]
  },
  {
   "cell_type": "code",
   "execution_count": 18,
   "metadata": {},
   "outputs": [
    {
     "data": {
      "text/html": [
       "<div>\n",
       "<style scoped>\n",
       "    .dataframe tbody tr th:only-of-type {\n",
       "        vertical-align: middle;\n",
       "    }\n",
       "\n",
       "    .dataframe tbody tr th {\n",
       "        vertical-align: top;\n",
       "    }\n",
       "\n",
       "    .dataframe thead th {\n",
       "        text-align: right;\n",
       "    }\n",
       "</style>\n",
       "<table border=\"1\" class=\"dataframe\">\n",
       "  <thead>\n",
       "    <tr style=\"text-align: right;\">\n",
       "      <th></th>\n",
       "      <th>name</th>\n",
       "      <th>occupation</th>\n",
       "      <th>profile_link</th>\n",
       "      <th>connected_at</th>\n",
       "    </tr>\n",
       "  </thead>\n",
       "  <tbody>\n",
       "    <tr>\n",
       "      <th>0</th>\n",
       "      <td>Sie, Evan Setiawan</td>\n",
       "      <td>Class Coordinator - Sekolah Data PACMANN</td>\n",
       "      <td>https://linkedin.com/in/sie-evan-setiawan/</td>\n",
       "      <td>1 day ago</td>\n",
       "    </tr>\n",
       "    <tr>\n",
       "      <th>1</th>\n",
       "      <td>Erika Dwi Puspitasari</td>\n",
       "      <td>Student at Airlangga University</td>\n",
       "      <td>https://linkedin.com/in/erika-dwi-puspitasari-...</td>\n",
       "      <td>2 days ago</td>\n",
       "    </tr>\n",
       "    <tr>\n",
       "      <th>2</th>\n",
       "      <td>Ekaterina Shlenova</td>\n",
       "      <td>IT Recruiter in Yandex</td>\n",
       "      <td>https://linkedin.com/in/ekaterina-shlenova-714...</td>\n",
       "      <td>3 days ago</td>\n",
       "    </tr>\n",
       "    <tr>\n",
       "      <th>3</th>\n",
       "      <td>eef hikmat</td>\n",
       "      <td>Student at sekolah tinggi ilmu ekonomi 66</td>\n",
       "      <td>https://linkedin.com/in/eef-hikmat-13332a1a6/</td>\n",
       "      <td>1 week ago</td>\n",
       "    </tr>\n",
       "    <tr>\n",
       "      <th>4</th>\n",
       "      <td>Amna Maharani</td>\n",
       "      <td>IT Student at Fachhochschule Kiel</td>\n",
       "      <td>https://linkedin.com/in/amaharani/</td>\n",
       "      <td>1 week ago</td>\n",
       "    </tr>\n",
       "  </tbody>\n",
       "</table>\n",
       "</div>"
      ],
      "text/plain": [
       "                    name                                 occupation  \\\n",
       "0     Sie, Evan Setiawan   Class Coordinator - Sekolah Data PACMANN   \n",
       "1  Erika Dwi Puspitasari            Student at Airlangga University   \n",
       "2     Ekaterina Shlenova                     IT Recruiter in Yandex   \n",
       "3             eef hikmat  Student at sekolah tinggi ilmu ekonomi 66   \n",
       "4          Amna Maharani          IT Student at Fachhochschule Kiel   \n",
       "\n",
       "                                        profile_link connected_at  \n",
       "0         https://linkedin.com/in/sie-evan-setiawan/    1 day ago  \n",
       "1  https://linkedin.com/in/erika-dwi-puspitasari-...   2 days ago  \n",
       "2  https://linkedin.com/in/ekaterina-shlenova-714...   3 days ago  \n",
       "3      https://linkedin.com/in/eef-hikmat-13332a1a6/   1 week ago  \n",
       "4                 https://linkedin.com/in/amaharani/   1 week ago  "
      ]
     },
     "execution_count": 18,
     "metadata": {},
     "output_type": "execute_result"
    }
   ],
   "source": [
    "# parsing profiles list\n",
    "profiles = []\n",
    "\n",
    "for c in containers:\n",
    "    # data model\n",
    "    m_profile = {\n",
    "        'name': None,\n",
    "        'occupation': None,\n",
    "        'profile_link': 'https://linkedin.com{}',\n",
    "        'connected_at': None\n",
    "    }\n",
    "    m_profile['name'] = c.find('span', {'class': 'mn-connection-card__name'}).text.strip()\n",
    "    m_profile['occupation'] = c.find('span', {'class': 'mn-connection-card__occupation'}).text.strip()\n",
    "    m_profile['profile_link'] = m_profile['profile_link'].format(c.find('a', {'class': 'mn-connection-card__link'})['href'])\n",
    "    m_profile['connected_at'] = c.find('time').text.strip().split('\\n')[-1].strip()\n",
    "    profiles.append(m_profile)    \n",
    "\n",
    "df_profile = pd.DataFrame(profiles)\n",
    "df_profile.head()"
   ]
  },
  {
   "cell_type": "markdown",
   "metadata": {},
   "source": [
    "### Profile Scraper"
   ]
  },
  {
   "cell_type": "code",
   "execution_count": 10,
   "metadata": {},
   "outputs": [
    {
     "data": {
      "text/plain": [
       "0             https://linkedin.com/in/sie-evan-setiawan/\n",
       "1      https://linkedin.com/in/erika-dwi-puspitasari-...\n",
       "2      https://linkedin.com/in/ekaterina-shlenova-714...\n",
       "3          https://linkedin.com/in/eef-hikmat-13332a1a6/\n",
       "4                     https://linkedin.com/in/amaharani/\n",
       "                             ...                        \n",
       "834                  https://linkedin.com/in/nabilah-iz/\n",
       "835    https://linkedin.com/in/zikra-halim-arrassy-a4...\n",
       "836                       https://linkedin.com/in/magaz/\n",
       "837    https://linkedin.com/in/soegianto-soelistiono-...\n",
       "838    https://linkedin.com/in/cendra-devayana-putra-...\n",
       "Name: profile_link, Length: 839, dtype: object"
      ]
     },
     "execution_count": 10,
     "metadata": {},
     "output_type": "execute_result"
    }
   ],
   "source": [
    "df_profile.profile_link"
   ]
  },
  {
   "cell_type": "code",
   "execution_count": 2,
   "metadata": {},
   "outputs": [
    {
     "data": {
      "text/plain": [
       "1"
      ]
     },
     "execution_count": 2,
     "metadata": {},
     "output_type": "execute_result"
    }
   ],
   "source": [
    "from actions import Actions\n",
    "from credentials import Credentials\n",
    "import constant\n",
    "\n",
    "c = Credentials()\n",
    "c.get_uid()"
   ]
  },
  {
   "cell_type": "code",
   "execution_count": null,
   "metadata": {},
   "outputs": [],
   "source": [
    "# specify chrome options\n",
    "options = webdriver.ChromeOptions()\n",
    "options.add_argument('--incognito')\n",
    "options.add_argument('--disable-gpu')\n",
    "options.add_argument('--disable-extensions')\n",
    "# options.add_argument('--headless')\n",
    "browser = webdriver.Chrome(options=options)\n",
    "\n",
    "actions = Actions(browser, c)\n",
    "actions.do_login()"
   ]
  },
  {
   "cell_type": "code",
   "execution_count": 119,
   "metadata": {},
   "outputs": [
    {
     "name": "stdout",
     "output_type": "stream",
     "text": [
      "<selenium.webdriver.remote.webelement.WebElement (session=\"82bb0f6927ca24d3dc34122684cb4d0a\", element=\"faf6ec61-aeb2-4876-8e4c-f0b0ad1af7e1\")>\n"
     ]
    }
   ],
   "source": [
    "browser.get('https://linkedin.com/in/sie-evan-setiawan/')\n",
    "# link = browser_wait(browser, 'link-without-visited-state:nth-child(2)', locator=By.CLASS_NAME, timeout=120)\n",
    "# WebDriverWait(browser, 10)\n",
    "# link = browser.find_element(By.XPATH, '/html/body/div[6]/div[3]/div/div/div[2]/div/div/main/section[1]/div[2]/ul/li/a')\n",
    "# link = WebDriverWait(browser, 30).until(\n",
    "#         EC.presence_of_element_located((By.CSS_SELECTOR, 'li.text-body-small:nth-child(2)'))\n",
    "#     )\n",
    "link = browser_wait(browser, 'li.text-body-small:nth-child(2)', By.CSS_SELECTOR, 30)\n",
    "print(link)"
   ]
  },
  {
   "cell_type": "code",
   "execution_count": 72,
   "metadata": {},
   "outputs": [],
   "source": [
    "link.click()"
   ]
  },
  {
   "cell_type": "code",
   "execution_count": 75,
   "metadata": {},
   "outputs": [],
   "source": [
    "filter_btn = browser_wait(browser, 'div.search-reusables__filter-trigger-and-dropdown:nth-child(1)', By.CSS_SELECTOR, timeout=30)\n",
    "filter_btn.click()\n",
    "\n",
    "first_circle = browser_wait(browser, 'li.search-reusables__collection-values-item:nth-child(1) > label', By.CSS_SELECTOR, timeout=30)\n",
    "first_circle.click()\n",
    "third_circle = browser_wait(browser, 'li.search-reusables__collection-values-item:nth-child(3) > label', By.CSS_SELECTOR, timeout=30)\n",
    "third_circle.click()"
   ]
  },
  {
   "cell_type": "code",
   "execution_count": 67,
   "metadata": {},
   "outputs": [],
   "source": [
    "submit = browser_wait(browser, '/html/body/div[7]/div[3]/div[2]/section/div/nav/div/ul/li[3]/div/div/div/div[1]/div/form/fieldset/div[2]/button[2]')\n",
    "submit.click()"
   ]
  },
  {
   "cell_type": "code",
   "execution_count": 68,
   "metadata": {},
   "outputs": [
    {
     "data": {
      "text/plain": [
       "<selenium.webdriver.remote.webelement.WebElement (session=\"3bec0805c7b54e7b05113556ffb54bfa\", element=\"8969d98c-084f-44f7-8ecf-4962b03821fa\")>"
      ]
     },
     "execution_count": 68,
     "metadata": {},
     "output_type": "execute_result"
    }
   ],
   "source": [
    "next = browser_wait(browser, '/html/body/div[7]/div[3]/div[2]/div/div[1]/main/div/div/div[3]/div/div/button[2]')\n",
    "next"
   ]
  },
  {
   "cell_type": "code",
   "execution_count": 122,
   "metadata": {},
   "outputs": [
    {
     "data": {
      "text/plain": [
       "<selenium.webdriver.remote.webelement.WebElement (session=\"82bb0f6927ca24d3dc34122684cb4d0a\", element=\"1b0c618d-41bb-4be9-aa41-0ddf2753ea8d\")>"
      ]
     },
     "execution_count": 122,
     "metadata": {},
     "output_type": "execute_result"
    }
   ],
   "source": [
    "WebDriverWait(browser, 30).until(\n",
    "        EC.element_to_be_clickable((By.CSS_SELECTOR, 'button.artdeco-pagination__button--next')))\n",
    "                                        #       '/html/body/div[7]/div[3]/div[2]/div/div[1]/main/div/div/div[3]/div/div/button[2]'\n",
    "                                        #       '/html/body/div[7]/div[3]/div[2]/div/div[1]/main/div/div/div/div[2]/div/button[2]'\n",
    "        # EC.element_to_be_clickable((By.XPATH, '/html/body/div[7]/div[3]/div[2]/div/div[1]/main/div/div/div[3]/div/div/button[1]')))"
   ]
  },
  {
   "cell_type": "code",
   "execution_count": null,
   "metadata": {},
   "outputs": [],
   "source": [
    "# scrap item\n",
    "connections = BeautifulSoup(browser.page_source.encode('utf-8'), 'html')\n",
    "connections.prettify()"
   ]
  },
  {
   "cell_type": "code",
   "execution_count": 80,
   "metadata": {},
   "outputs": [
    {
     "data": {
      "text/plain": [
       "10"
      ]
     },
     "execution_count": 80,
     "metadata": {},
     "output_type": "execute_result"
    }
   ],
   "source": [
    "containers = connections.findAll('div', {'class': 'entity-result__item'})\n",
    "len(containers)"
   ]
  },
  {
   "cell_type": "code",
   "execution_count": 109,
   "metadata": {},
   "outputs": [
    {
     "name": "stdout",
     "output_type": "stream",
     "text": [
      "Ladinda Tasya\n"
     ]
    }
   ],
   "source": [
    "for c in containers:\n",
    "    heading = c.find('span', {'class': 'entity-result__title-text t-16'})    \n",
    "    # data properties\n",
    "    name = heading.find('span', {'dir': 'ltr'}).span.text\n",
    "    circle_level = heading.find('span', {'class': 'image-text-lockup__text entity-result__badge-text'}).span.text.split()[-1][0]\n",
    "    profile_link = heading.a['href']\n",
    "    occupation = c.find('div', {'class': 'entity-result__primary-subtitle t-14 t-black t-normal'}).text.strip()\n",
    "    \n",
    "    break"
   ]
  },
  {
   "cell_type": "code",
   "execution_count": 4,
   "metadata": {},
   "outputs": [],
   "source": [
    "import threading\n",
    "from queue import Queue\n",
    "import time"
   ]
  },
  {
   "cell_type": "code",
   "execution_count": 5,
   "metadata": {},
   "outputs": [
    {
     "name": "stdout",
     "output_type": "stream",
     "text": [
      "WARNING - li_at value is None.\n",
      "Attempting to login...\n",
      "WARNING - li_at value is None.\n",
      "Attempting to login...\n",
      "WARNING - li_at value is None.\n",
      "Attempting to login...\n",
      "WARNING - li_at value is None.\n",
      "Attempting to login...\n",
      "WARNING - li_at value is None.\n",
      "Attempting to login...\n"
     ]
    },
    {
     "data": {
      "text/plain": [
       "5"
      ]
     },
     "execution_count": 5,
     "metadata": {},
     "output_type": "execute_result"
    }
   ],
   "source": [
    "qlist = []\n",
    "\n",
    "for i in range(5):\n",
    "    # specify chrome options\n",
    "    options = webdriver.ChromeOptions()\n",
    "    options.add_argument('--incognito')\n",
    "    options.add_argument('--disable-gpu')\n",
    "    options.add_argument('--disable-extensions')\n",
    "    # options.add_argument('--headless')\n",
    "    browser = webdriver.Chrome(options=options)\n",
    "    \n",
    "    actions = Actions(browser, c)\n",
    "    actions.do_login()\n",
    "\n",
    "    qlist.append(browser)\n",
    "\n",
    "len(qlist)"
   ]
  },
  {
   "cell_type": "code",
   "execution_count": 7,
   "metadata": {},
   "outputs": [
    {
     "data": {
      "text/plain": [
       "5"
      ]
     },
     "execution_count": 7,
     "metadata": {},
     "output_type": "execute_result"
    }
   ],
   "source": [
    "from objectpool import ObjectPool\n",
    "pool = ObjectPool.get_instance()\n",
    "pool.set_resource(qlist)\n",
    "pool.get_total_resource()"
   ]
  },
  {
   "cell_type": "code",
   "execution_count": 15,
   "metadata": {},
   "outputs": [],
   "source": [
    "links = [\n",
    "    'https://linkedin.com/in/sie-evan-setiawan/',\n",
    "    'https://linkedin.com/in/erika-dwi-puspitasari-965b7318b/',\n",
    "    'https://linkedin.com/in/ekaterina-shlenova-714504189/',\n",
    "    'https://linkedin.com/in/eef-hikmat-13332a1a6/',\n",
    "    'https://linkedin.com/in/amaharani/',\n",
    "    'https://linkedin.com/in/nemat-allah-aloush-60887a1a9/',\n",
    "    'https://linkedin.com/in/rayhanozzy/',\n",
    "    'https://linkedin.com/in/reynaldipriandika/',\n",
    "    'https://linkedin.com/in/faisal-ichsan/',\n",
    "    'https://linkedin.com/in/sisca-fahrudha-retno-agustina-119396183/',\n",
    "    'https://linkedin.com/in/muhammad-abil-nurjani/',\n",
    "    'https://linkedin.com/in/mishrag37/',\n",
    "    'https://linkedin.com/in/rahmatri-mardiko-56720690/',\n",
    "    'https://linkedin.com/in/bintang-muhammad-326827140/',\n",
    "    'https://linkedin.com/in/hanifizzudinr/',\n",
    "    'https://linkedin.com/in/frdaamalia/',\n",
    "    'https://linkedin.com/in/andrey-kiselevich-368165232/',\n",
    "    'https://linkedin.com/in/masetarahma/',\n",
    "    'https://linkedin.com/in/ika-sulistiorini-a3032a152/',\n",
    "    'https://linkedin.com/in/cerelia-devina-tantia-vinci-ninggalih-1949571b6/',\n",
    "    'https://linkedin.com/in/ilhamnurakbar/',\n",
    "    'https://linkedin.com/in/wahyu-nur-abidin-b20b26222/',\n",
    "    'https://linkedin.com/in/houssam-hammoudi/',\n",
    "    'https://linkedin.com/in/vladislav-vasiljev-a3a22021a/',\n",
    "    'https://linkedin.com/in/ayu-anggraini30/'\n",
    "]"
   ]
  },
  {
   "cell_type": "code",
   "execution_count": 16,
   "metadata": {},
   "outputs": [],
   "source": [
    "lock_db = threading.Lock()\n",
    "\n",
    "def dumper_thread(profile_link, op, thread_name):\n",
    "    while True:\n",
    "        print(f'{thread_name} borrowing object...')\n",
    "        driver = op.borrow_resource()\n",
    "        print(f'{thread_name} opening link...')\n",
    "        driver.get(profile_link)\n",
    "        print(f'{thread_name} dumping html...')\n",
    "        # TODO: dump html\n",
    "        with lock_db:\n",
    "            print(f'{thread_name} inserting to db...')\n",
    "            time.sleep(10)\n",
    "        print(f'{thread_name} returning resource...')\n",
    "        op.return_resource(driver)\n",
    "        print(f'{thread_name} done.')\n",
    "        break\n",
    "\n",
    "threads = []\n",
    "for i, item in enumerate(links):\n",
    "    thread_name = f'Thread-{i}'\n",
    "    t = threading.Thread(target=dumper_thread, args=(item, pool, thread_name))\n",
    "    t.name = thread_name\n",
    "    threads.append(t)"
   ]
  },
  {
   "cell_type": "code",
   "execution_count": 19,
   "metadata": {},
   "outputs": [
    {
     "name": "stdout",
     "output_type": "stream",
     "text": [
      "Thread-24 borrowing object...\n",
      "Thread-24 opening link...\n"
     ]
    },
    {
     "ename": "RuntimeError",
     "evalue": "threads can only be started once",
     "output_type": "error",
     "traceback": [
      "\u001b[1;31m---------------------------------------------------------------------------\u001b[0m",
      "\u001b[1;31mRuntimeError\u001b[0m                              Traceback (most recent call last)",
      "\u001b[1;32m<ipython-input-19-fbb63621c0b8>\u001b[0m in \u001b[0;36m<module>\u001b[1;34m\u001b[0m\n\u001b[0;32m      3\u001b[0m \u001b[1;33m\u001b[0m\u001b[0m\n\u001b[0;32m      4\u001b[0m \u001b[1;32mfor\u001b[0m \u001b[0m_\u001b[0m \u001b[1;32min\u001b[0m \u001b[0mrange\u001b[0m\u001b[1;33m(\u001b[0m\u001b[0mmax_thread_exec\u001b[0m\u001b[1;33m)\u001b[0m\u001b[1;33m:\u001b[0m\u001b[1;33m\u001b[0m\u001b[1;33m\u001b[0m\u001b[0m\n\u001b[1;32m----> 5\u001b[1;33m     \u001b[0mthreads\u001b[0m\u001b[1;33m[\u001b[0m\u001b[0mcurr_thread\u001b[0m\u001b[1;33m]\u001b[0m\u001b[1;33m.\u001b[0m\u001b[0mstart\u001b[0m\u001b[1;33m(\u001b[0m\u001b[1;33m)\u001b[0m\u001b[1;33m\u001b[0m\u001b[1;33m\u001b[0m\u001b[0m\n\u001b[0m\u001b[0;32m      6\u001b[0m     \u001b[0mcurr_thread\u001b[0m \u001b[1;33m+=\u001b[0m \u001b[1;36m1\u001b[0m\u001b[1;33m\u001b[0m\u001b[1;33m\u001b[0m\u001b[0m\n",
      "\u001b[1;32mc:\\Users\\fahrizain\\Anaconda3\\lib\\threading.py\u001b[0m in \u001b[0;36mstart\u001b[1;34m(self)\u001b[0m\n\u001b[0;32m    846\u001b[0m \u001b[1;33m\u001b[0m\u001b[0m\n\u001b[0;32m    847\u001b[0m         \u001b[1;32mif\u001b[0m \u001b[0mself\u001b[0m\u001b[1;33m.\u001b[0m\u001b[0m_started\u001b[0m\u001b[1;33m.\u001b[0m\u001b[0mis_set\u001b[0m\u001b[1;33m(\u001b[0m\u001b[1;33m)\u001b[0m\u001b[1;33m:\u001b[0m\u001b[1;33m\u001b[0m\u001b[1;33m\u001b[0m\u001b[0m\n\u001b[1;32m--> 848\u001b[1;33m             \u001b[1;32mraise\u001b[0m \u001b[0mRuntimeError\u001b[0m\u001b[1;33m(\u001b[0m\u001b[1;34m\"threads can only be started once\"\u001b[0m\u001b[1;33m)\u001b[0m\u001b[1;33m\u001b[0m\u001b[1;33m\u001b[0m\u001b[0m\n\u001b[0m\u001b[0;32m    849\u001b[0m         \u001b[1;32mwith\u001b[0m \u001b[0m_active_limbo_lock\u001b[0m\u001b[1;33m:\u001b[0m\u001b[1;33m\u001b[0m\u001b[1;33m\u001b[0m\u001b[0m\n\u001b[0;32m    850\u001b[0m             \u001b[0m_limbo\u001b[0m\u001b[1;33m[\u001b[0m\u001b[0mself\u001b[0m\u001b[1;33m]\u001b[0m \u001b[1;33m=\u001b[0m \u001b[0mself\u001b[0m\u001b[1;33m\u001b[0m\u001b[1;33m\u001b[0m\u001b[0m\n",
      "\u001b[1;31mRuntimeError\u001b[0m: threads can only be started once"
     ]
    },
    {
     "name": "stdout",
     "output_type": "stream",
     "text": [
      "Thread-24 dumping html...\n",
      "Thread-24 inserting to db...\n",
      "Thread-24 returning resource...\n",
      "Thread-24 done.\n"
     ]
    }
   ],
   "source": [
    "max_thread_exec = 5\n",
    "curr_thread = 0\n",
    "\n",
    "for _ in range(max_thread_exec):\n",
    "    threads[curr_thread].start()\n",
    "    curr_thread += 1"
   ]
  },
  {
   "cell_type": "code",
   "execution_count": 18,
   "metadata": {},
   "outputs": [
    {
     "data": {
      "text/plain": [
       "5"
      ]
     },
     "execution_count": 18,
     "metadata": {},
     "output_type": "execute_result"
    }
   ],
   "source": [
    "curr_thread"
   ]
  },
  {
   "cell_type": "code",
   "execution_count": 39,
   "metadata": {},
   "outputs": [
    {
     "name": "stderr",
     "output_type": "stream",
     "text": [
      "Exception in thread Thread-74:\n",
      "Traceback (most recent call last):\n",
      "  File \"c:\\Users\\fahrizain\\Anaconda3\\lib\\threading.py\", line 932, in _bootstrap_inner\n",
      "Exception in thread Thread-75:\n",
      "Traceback (most recent call last):\n",
      "  File \"c:\\Users\\fahrizain\\Anaconda3\\lib\\threading.py\", line 932, in _bootstrap_inner\n",
      "Exception in thread Thread-76:\n",
      "Traceback (most recent call last):\n",
      "  File \"c:\\Users\\fahrizain\\Anaconda3\\lib\\threading.py\", line 932, in _bootstrap_inner\n",
      "Exception in thread Thread-77:\n",
      "Traceback (most recent call last):\n",
      "  File \"c:\\Users\\fahrizain\\Anaconda3\\lib\\threading.py\", line 932, in _bootstrap_inner\n",
      "    self.run()\n",
      "        self.run()\n",
      "  File \"c:\\Users\\fahrizain\\Anaconda3\\lib\\threading.py\", line 870, in run\n",
      "self.run()\n",
      "  File \"c:\\Users\\fahrizain\\Anaconda3\\lib\\threading.py\", line 870, in run\n",
      "      File \"c:\\Users\\fahrizain\\Anaconda3\\lib\\threading.py\", line 870, in run\n",
      "Exception in thread Thread-78:\n",
      "Traceback (most recent call last):\n",
      "  File \"c:\\Users\\fahrizain\\Anaconda3\\lib\\threading.py\", line 932, in _bootstrap_inner\n",
      "self.run()\n",
      "  File \"c:\\Users\\fahrizain\\Anaconda3\\lib\\threading.py\", line 870, in run\n",
      "    self._target(*self._args, **self._kwargs)\n",
      "TypeError: dumper_thread() argument after * must be an iterable, not Queue\n",
      "    self._target(*self._args, **self._kwargs)\n",
      "TypeError: dumper_thread() argument after * must be an iterable, not Queue\n",
      "    self._target(*self._args, **self._kwargs)\n",
      "    self.run()\n",
      "  File \"c:\\Users\\fahrizain\\Anaconda3\\lib\\threading.py\", line 870, in run\n",
      "    self._target(*self._args, **self._kwargs)\n",
      "TypeError: dumper_thread() argument after * must be an iterable, not Queue\n",
      "TypeError: dumper_thread() argument after * must be an iterable, not Queue\n",
      "    self._target(*self._args, **self._kwargs)\n",
      "TypeError: dumper_thread() argument after * must be an iterable, not Queue\n"
     ]
    }
   ],
   "source": [
    "insert_count = 0\n",
    "\n",
    "def dumper_thread(queue):\n",
    "    while True:        \n",
    "        try:\n",
    "            i, item = queue.get()\n",
    "            thread_name = f'Thread-{i}'\n",
    "            print(f'{thread_name} borrowing resource...')\n",
    "            driver = pool.borrow_resource()\n",
    "            print(f'{thread_name} opening link...')\n",
    "            driver.get(item)\n",
    "            print(f'{thread_name} dumping page...')                \n",
    "            time.sleep(3)\n",
    "\n",
    "            with lock_db:\n",
    "                print(f'{thread_name} inserting to db...')\n",
    "                time.sleep(10)\n",
    "\n",
    "            print(f'{thread_name} done.')\n",
    "            queue.task_done()\n",
    "            \n",
    "        except:\n",
    "            raise SystemError('No free resource currently.')\n",
    "    \n",
    "\n",
    "for _ in range(5):    \n",
    "    t = threading.Thread(target=dumper_thread, args=(qlinks))\n",
    "    t.start()"
   ]
  },
  {
   "cell_type": "code",
   "execution_count": 30,
   "metadata": {},
   "outputs": [
    {
     "name": "stdout",
     "output_type": "stream",
     "text": [
      "Thread-0 starting...\n",
      "Thread-0 attempting to update count...\n",
      "Count was updated by thread-0!\n",
      "Thread-1 starting...\n",
      "Thread-1 attempting to update count...\n",
      "Thread-2 starting...\n",
      "Thread-2 attempting to update count...\n",
      "Thread-3 starting...\n",
      "Thread-3 attempting to update count...\n",
      "Thread-4 starting...\n",
      "Thread-4 attempting to update count...\n",
      "Count was updated by thread-1!\n",
      "Thread-0 done.\n",
      "Thread-5 starting...\n",
      "Thread-5 attempting to update count...\n",
      "Count was updated by thread-2!\n",
      "Thread-1 done.\n",
      "Thread-6 starting...\n",
      "Thread-6 attempting to update count...\n",
      "Count was updated by thread-3!\n",
      "Thread-2 done.\n",
      "Thread-7 starting...\n",
      "Thread-7 attempting to update count...\n",
      "Count was updated by thread-4!\n",
      "Thread-3 done.\n",
      "Thread-8 starting...\n",
      "Thread-8 attempting to update count...\n",
      "Count was updated by thread-5!\n",
      "Thread-4 done.\n",
      "Thread-9 starting...\n",
      "Thread-9 attempting to update count...\n",
      "Count was updated by thread-6!\n",
      "Thread-5 done.\n",
      "Count was updated by thread-7!\n",
      "Thread-6 done.\n",
      "Count was updated by thread-8!\n",
      "Thread-7 done.\n",
      "Count was updated by thread-9!\n",
      "Thread-8 done.\n",
      "Thread-9 done.\n"
     ]
    }
   ],
   "source": [
    "lock = threading.Lock()\n",
    "count = 0\n",
    "\n",
    "def thread_test(i):\n",
    "    print(f'Thread-{i} attempting to update count...')\n",
    "    with lock:\n",
    "        global count\n",
    "        count += 1\n",
    "        print(f'Count was updated by thread-{i}!')\n",
    "        time.sleep(10)\n",
    "\n",
    "def threader():\n",
    "    while True:\n",
    "        i = q.get()\n",
    "        print(f'Thread-{i} starting...')\n",
    "        thread_test(i)\n",
    "        time.sleep(3)\n",
    "        print(f'Thread-{i} done.')\n",
    "        q.task_done()\n",
    "\n",
    "q = Queue()\n",
    "for x in range(5):\n",
    "    thread = threading.Thread(target=threader)\n",
    "\n",
    "    # thread.daemon = True\n",
    "    thread.start()\n",
    "\n",
    "for job in range(10):\n",
    "    q.put(job)"
   ]
  },
  {
   "cell_type": "code",
   "execution_count": 27,
   "metadata": {},
   "outputs": [
    {
     "name": "stdout",
     "output_type": "stream",
     "text": [
      "10\n"
     ]
    }
   ],
   "source": [
    "print(count)"
   ]
  },
  {
   "cell_type": "code",
   "execution_count": null,
   "metadata": {},
   "outputs": [],
   "source": []
  }
 ],
 "metadata": {
  "interpreter": {
   "hash": "e7a7f8887abec87f9a5d5d6418a01cb1f181ea97746d227f5e3ce398a532a8c3"
  },
  "kernelspec": {
   "display_name": "Python 3.8.8 ('base')",
   "language": "python",
   "name": "python3"
  },
  "language_info": {
   "codemirror_mode": {
    "name": "ipython",
    "version": 3
   },
   "file_extension": ".py",
   "mimetype": "text/x-python",
   "name": "python",
   "nbconvert_exporter": "python",
   "pygments_lexer": "ipython3",
   "version": "3.8.8"
  },
  "orig_nbformat": 4
 },
 "nbformat": 4,
 "nbformat_minor": 2
}
