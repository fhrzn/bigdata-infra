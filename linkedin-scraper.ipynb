{
 "cells": [
  {
   "cell_type": "code",
   "execution_count": 1,
   "metadata": {},
   "outputs": [],
   "source": [
    "from selenium import webdriver\n",
    "from selenium.webdriver.common.keys import Keys\n",
    "from selenium.webdriver.common.by import By\n",
    "from selenium.webdriver.common.action_chains import ActionChains\n",
    "from selenium.webdriver.support.ui import WebDriverWait\n",
    "from selenium.webdriver.support import expected_conditions as EC\n",
    "from bs4 import BeautifulSoup\n",
    "import time\n",
    "import pandas as pd\n",
    "import re"
   ]
  },
  {
   "cell_type": "markdown",
   "metadata": {},
   "source": [
    "### Connections Scraper"
   ]
  },
  {
   "cell_type": "code",
   "execution_count": 2,
   "metadata": {},
   "outputs": [],
   "source": [
    "def browser_wait(driver, element, locator=By.XPATH, timeout=10):\n",
    "    return WebDriverWait(driver, timeout).until(\n",
    "        EC.visibility_of_element_located((locator, element))\n",
    "    )\n",
    "\n",
    "def browser_wait_multi(driver, element, locator=By.XPATH, timeout=10):\n",
    "    return WebDriverWait(driver, timeout).until(\n",
    "        EC.presence_of_all_elements_located((locator, element))\n",
    "    )\n",
    "\n",
    "def scroll(driver, start=0, end='document.body.scrollHeight'):\n",
    "    driver.execute_script(f'window.scrollTo({start}, {end});')    "
   ]
  },
  {
   "cell_type": "code",
   "execution_count": 3,
   "metadata": {},
   "outputs": [],
   "source": [
    "# env\n",
    "USERNAME = 'fahri.lafa@gmail.com'\n",
    "PASSWORD = '1qw23er4'"
   ]
  },
  {
   "cell_type": "code",
   "execution_count": null,
   "metadata": {},
   "outputs": [],
   "source": [
    "# specify chrome options\n",
    "options = webdriver.ChromeOptions()\n",
    "options.add_argument('--incognito')\n",
    "options.add_argument('--disable-gpu')\n",
    "options.add_argument('--disable-extensions')\n",
    "options.add_argument('--headless')\n",
    "browser = webdriver.Chrome(options=options)\n",
    "\n",
    "# open the site\n",
    "print('Opening site...')\n",
    "browser.get('https://linkedin.com')\n",
    "\n",
    "# move to login page\n",
    "try:    \n",
    "    login_btn = browser_wait(browser, '/html/body/nav/div/a[2]')\n",
    "    login_btn.click()\n",
    "except:\n",
    "    print('Cannot find login button!')\n",
    "\n",
    "# fill credentials\n",
    "print('Attempting to login...')\n",
    "try:\n",
    "    email_field = browser_wait(browser, '#username', locator=By.CSS_SELECTOR)\n",
    "    pwd_field = browser_wait(browser, '#password', locator=By.CSS_SELECTOR)\n",
    "    # insert email password\n",
    "    email_field.send_keys(USERNAME)\n",
    "    pwd_field.send_keys(PASSWORD)\n",
    "    # submit\n",
    "    time.sleep(1.5)\n",
    "    pwd_field.send_keys(Keys.RETURN)\n",
    "    print('Submit login...')\n",
    "except:\n",
    "    print('Cannot find email or passowrd field!')\n",
    "\n",
    "# go to My Network page\n",
    "print('Move to `My Network` page')\n",
    "browser.get('https://www.linkedin.com/mynetwork/invite-connect/connections/')\n",
    "\n",
    "# scroll to bottom\n",
    "last_height = browser.execute_script('return document.body.scrollHeight')\n",
    "wait_scroll = 5\n",
    "while True:\n",
    "    print('Scrolling...')\n",
    "    # scroll until the last record\n",
    "    scroll(browser)\n",
    "    print('Wait 5s...')\n",
    "    time.sleep(5)\n",
    "    new_height = browser.execute_script('return document.body.scrollHeight')\n",
    "    # if scroll reach the end\n",
    "    if new_height == last_height:\n",
    "        try:\n",
    "            # look for load_more button\n",
    "            print('Looking for load more button...')\n",
    "            # load_more = browser_wait(browser, '/html/body/div[7]/div[3]/div/div/div/div/div[2]/div/div/main/div/section/div[2]/div[2]/div/button')\n",
    "            load_more = browser_wait(browser, 'scaffold-finite-scroll__load-button', locator=By.CLASS_NAME)\n",
    "            load_more.click()\n",
    "            print('Wait 5s...')\n",
    "            time.sleep(5)\n",
    "            # scroll again\n",
    "            print('Scrolling...')\n",
    "            scroll(browser)\n",
    "        except:\n",
    "            # no more data\n",
    "            print('Load more button not found! It seems we are reached the end')\n",
    "            break\n",
    "    # update last height\n",
    "    print('Update last height')\n",
    "    last_height = new_height\n",
    "            \n",
    "# get raw html\n",
    "print('Get output...')\n",
    "my_networks = BeautifulSoup(browser.page_source.encode('utf-8'), 'html')\n",
    "my_networks.prettify()\n",
    "\n",
    "# write html to file\n",
    "print('Write output...')\n",
    "with open('my_networks.html', 'w', encoding='utf-8') as w:\n",
    "    w.write(str(my_networks))\n",
    "\n",
    "# # anaylzing html tags\n",
    "# print('Analyzing html tags...')\n",
    "\n",
    "# quit browser\n",
    "print('Done. Quitting...')\n",
    "time.sleep(5)\n",
    "\n",
    "browser.close()"
   ]
  },
  {
   "cell_type": "code",
   "execution_count": 17,
   "metadata": {},
   "outputs": [
    {
     "data": {
      "text/plain": [
       "839"
      ]
     },
     "execution_count": 17,
     "metadata": {},
     "output_type": "execute_result"
    }
   ],
   "source": [
    "containers = my_networks.findAll('li', {'class': 'mn-connection-card artdeco-list'})\n",
    "len(containers)"
   ]
  },
  {
   "cell_type": "code",
   "execution_count": 18,
   "metadata": {},
   "outputs": [
    {
     "data": {
      "text/html": [
       "<div>\n",
       "<style scoped>\n",
       "    .dataframe tbody tr th:only-of-type {\n",
       "        vertical-align: middle;\n",
       "    }\n",
       "\n",
       "    .dataframe tbody tr th {\n",
       "        vertical-align: top;\n",
       "    }\n",
       "\n",
       "    .dataframe thead th {\n",
       "        text-align: right;\n",
       "    }\n",
       "</style>\n",
       "<table border=\"1\" class=\"dataframe\">\n",
       "  <thead>\n",
       "    <tr style=\"text-align: right;\">\n",
       "      <th></th>\n",
       "      <th>name</th>\n",
       "      <th>occupation</th>\n",
       "      <th>profile_link</th>\n",
       "      <th>connected_at</th>\n",
       "    </tr>\n",
       "  </thead>\n",
       "  <tbody>\n",
       "    <tr>\n",
       "      <th>0</th>\n",
       "      <td>Sie, Evan Setiawan</td>\n",
       "      <td>Class Coordinator - Sekolah Data PACMANN</td>\n",
       "      <td>https://linkedin.com/in/sie-evan-setiawan/</td>\n",
       "      <td>1 day ago</td>\n",
       "    </tr>\n",
       "    <tr>\n",
       "      <th>1</th>\n",
       "      <td>Erika Dwi Puspitasari</td>\n",
       "      <td>Student at Airlangga University</td>\n",
       "      <td>https://linkedin.com/in/erika-dwi-puspitasari-...</td>\n",
       "      <td>2 days ago</td>\n",
       "    </tr>\n",
       "    <tr>\n",
       "      <th>2</th>\n",
       "      <td>Ekaterina Shlenova</td>\n",
       "      <td>IT Recruiter in Yandex</td>\n",
       "      <td>https://linkedin.com/in/ekaterina-shlenova-714...</td>\n",
       "      <td>3 days ago</td>\n",
       "    </tr>\n",
       "    <tr>\n",
       "      <th>3</th>\n",
       "      <td>eef hikmat</td>\n",
       "      <td>Student at sekolah tinggi ilmu ekonomi 66</td>\n",
       "      <td>https://linkedin.com/in/eef-hikmat-13332a1a6/</td>\n",
       "      <td>1 week ago</td>\n",
       "    </tr>\n",
       "    <tr>\n",
       "      <th>4</th>\n",
       "      <td>Amna Maharani</td>\n",
       "      <td>IT Student at Fachhochschule Kiel</td>\n",
       "      <td>https://linkedin.com/in/amaharani/</td>\n",
       "      <td>1 week ago</td>\n",
       "    </tr>\n",
       "  </tbody>\n",
       "</table>\n",
       "</div>"
      ],
      "text/plain": [
       "                    name                                 occupation  \\\n",
       "0     Sie, Evan Setiawan   Class Coordinator - Sekolah Data PACMANN   \n",
       "1  Erika Dwi Puspitasari            Student at Airlangga University   \n",
       "2     Ekaterina Shlenova                     IT Recruiter in Yandex   \n",
       "3             eef hikmat  Student at sekolah tinggi ilmu ekonomi 66   \n",
       "4          Amna Maharani          IT Student at Fachhochschule Kiel   \n",
       "\n",
       "                                        profile_link connected_at  \n",
       "0         https://linkedin.com/in/sie-evan-setiawan/    1 day ago  \n",
       "1  https://linkedin.com/in/erika-dwi-puspitasari-...   2 days ago  \n",
       "2  https://linkedin.com/in/ekaterina-shlenova-714...   3 days ago  \n",
       "3      https://linkedin.com/in/eef-hikmat-13332a1a6/   1 week ago  \n",
       "4                 https://linkedin.com/in/amaharani/   1 week ago  "
      ]
     },
     "execution_count": 18,
     "metadata": {},
     "output_type": "execute_result"
    }
   ],
   "source": [
    "# parsing profiles list\n",
    "profiles = []\n",
    "\n",
    "for c in containers:\n",
    "    # data model\n",
    "    m_profile = {\n",
    "        'name': None,\n",
    "        'occupation': None,\n",
    "        'profile_link': 'https://linkedin.com{}',\n",
    "        'connected_at': None\n",
    "    }\n",
    "    m_profile['name'] = c.find('span', {'class': 'mn-connection-card__name'}).text.strip()\n",
    "    m_profile['occupation'] = c.find('span', {'class': 'mn-connection-card__occupation'}).text.strip()\n",
    "    m_profile['profile_link'] = m_profile['profile_link'].format(c.find('a', {'class': 'mn-connection-card__link'})['href'])\n",
    "    m_profile['connected_at'] = c.find('time').text.strip().split('\\n')[-1].strip()\n",
    "    profiles.append(m_profile)    \n",
    "\n",
    "df_profile = pd.DataFrame(profiles)\n",
    "df_profile.head()"
   ]
  },
  {
   "cell_type": "markdown",
   "metadata": {},
   "source": [
    "### Profile Scraper"
   ]
  },
  {
   "cell_type": "code",
   "execution_count": 10,
   "metadata": {},
   "outputs": [
    {
     "data": {
      "text/plain": [
       "0             https://linkedin.com/in/sie-evan-setiawan/\n",
       "1      https://linkedin.com/in/erika-dwi-puspitasari-...\n",
       "2      https://linkedin.com/in/ekaterina-shlenova-714...\n",
       "3          https://linkedin.com/in/eef-hikmat-13332a1a6/\n",
       "4                     https://linkedin.com/in/amaharani/\n",
       "                             ...                        \n",
       "834                  https://linkedin.com/in/nabilah-iz/\n",
       "835    https://linkedin.com/in/zikra-halim-arrassy-a4...\n",
       "836                       https://linkedin.com/in/magaz/\n",
       "837    https://linkedin.com/in/soegianto-soelistiono-...\n",
       "838    https://linkedin.com/in/cendra-devayana-putra-...\n",
       "Name: profile_link, Length: 839, dtype: object"
      ]
     },
     "execution_count": 10,
     "metadata": {},
     "output_type": "execute_result"
    }
   ],
   "source": [
    "df_profile.profile_link"
   ]
  },
  {
   "cell_type": "code",
   "execution_count": 5,
   "metadata": {},
   "outputs": [
    {
     "data": {
      "text/plain": [
       "1"
      ]
     },
     "execution_count": 5,
     "metadata": {},
     "output_type": "execute_result"
    }
   ],
   "source": [
    "from actions import Actions\n",
    "from credentials import Credentials\n",
    "import constant\n",
    "\n",
    "c = Credentials()\n",
    "c.get_uid()"
   ]
  },
  {
   "cell_type": "code",
   "execution_count": 21,
   "metadata": {},
   "outputs": [],
   "source": [
    "# specify chrome options\n",
    "options = webdriver.ChromeOptions()\n",
    "options.add_argument('--incognito')\n",
    "options.add_argument('--disable-gpu')\n",
    "options.add_argument('--disable-extensions')\n",
    "# options.add_argument('--headless')\n",
    "browser = webdriver.Chrome(options=options)\n",
    "\n",
    "actions = Actions(browser, c)\n",
    "actions.do_login()"
   ]
  },
  {
   "cell_type": "code",
   "execution_count": 22,
   "metadata": {},
   "outputs": [],
   "source": [
    "browser.get('https://linkedin.com/in/hanifizzudinr/')"
   ]
  },
  {
   "cell_type": "markdown",
   "metadata": {},
   "source": [
    "## Getting Courses data"
   ]
  },
  {
   "cell_type": "code",
   "execution_count": 24,
   "metadata": {},
   "outputs": [
    {
     "name": "stdout",
     "output_type": "stream",
     "text": [
      "[<selenium.webdriver.remote.webelement.WebElement (session=\"effa5cf42a171f75f29db1cff97343a2\", element=\"c9ca0d6e-8228-4732-82f5-8a945c7df062\")>, <selenium.webdriver.remote.webelement.WebElement (session=\"effa5cf42a171f75f29db1cff97343a2\", element=\"b209d579-0290-4c80-8f3f-8a2880f2be1b\")>, <selenium.webdriver.remote.webelement.WebElement (session=\"effa5cf42a171f75f29db1cff97343a2\", element=\"e9ce0923-41df-4996-9a6c-923a725f97f1\")>, <selenium.webdriver.remote.webelement.WebElement (session=\"effa5cf42a171f75f29db1cff97343a2\", element=\"b36001d7-d539-42a7-9cdc-6ec2e2be2aba\")>, <selenium.webdriver.remote.webelement.WebElement (session=\"effa5cf42a171f75f29db1cff97343a2\", element=\"557596c9-2df5-4396-ac43-3cb55a3d28de\")>, <selenium.webdriver.remote.webelement.WebElement (session=\"effa5cf42a171f75f29db1cff97343a2\", element=\"8bd88188-7290-4eb2-a3e5-b4c164a9f269\")>, <selenium.webdriver.remote.webelement.WebElement (session=\"effa5cf42a171f75f29db1cff97343a2\", element=\"23073d50-a9fc-44a0-9cc5-6b0352143ef3\")>, <selenium.webdriver.remote.webelement.WebElement (session=\"effa5cf42a171f75f29db1cff97343a2\", element=\"b53bcd30-d155-4233-827b-56c37d56308d\")>, <selenium.webdriver.remote.webelement.WebElement (session=\"effa5cf42a171f75f29db1cff97343a2\", element=\"c3d29423-75c4-445a-ba34-9c51423f7b90\")>, <selenium.webdriver.remote.webelement.WebElement (session=\"effa5cf42a171f75f29db1cff97343a2\", element=\"134a03a6-7c83-4ce4-b372-d4a33e1e5b04\")>, <selenium.webdriver.remote.webelement.WebElement (session=\"effa5cf42a171f75f29db1cff97343a2\", element=\"78e756f9-ed7b-461b-8905-96d00fb7914c\")>]\n"
     ]
    }
   ],
   "source": [
    "anchors = browser_wait_multi(browser, 'a.optional-action-target-wrapper.artdeco-button.artdeco-button--tertiary', By.CSS_SELECTOR, 30)\n",
    "print(anchors)"
   ]
  },
  {
   "cell_type": "code",
   "execution_count": 27,
   "metadata": {},
   "outputs": [
    {
     "name": "stdout",
     "output_type": "stream",
     "text": [
      "Show all activity\n",
      "https://www.linkedin.com/in/hanifizzudinr/recent-activity/\n",
      "Show all 7 experiences\n",
      "https://www.linkedin.com/in/hanifizzudinr/details/experience?profileUrn=urn%3Ali%3Afsd_profile%3AACoAABbAq48B4hyhD22ZfE3c0edd4IrVGQIYzKM\n",
      "Show all 18 licenses & certifications\n",
      "https://www.linkedin.com/in/hanifizzudinr/details/certifications?profileUrn=urn%3Ali%3Afsd_profile%3AACoAABbAq48B4hyhD22ZfE3c0edd4IrVGQIYzKM\n",
      "Show all 5 volunteer experiences\n",
      "https://www.linkedin.com/in/hanifizzudinr/details/volunteering-experiences?profileUrn=urn%3Ali%3Afsd_profile%3AACoAABbAq48B4hyhD22ZfE3c0edd4IrVGQIYzKM\n",
      "Show all 40 skills\n",
      "https://www.linkedin.com/in/hanifizzudinr/details/skills?profileUrn=urn%3Ali%3Afsd_profile%3AACoAABbAq48B4hyhD22ZfE3c0edd4IrVGQIYzKM\n",
      "Show all 7 courses\n",
      "https://www.linkedin.com/in/hanifizzudinr/details/courses?profileUrn=urn%3Ali%3Afsd_profile%3AACoAABbAq48B4hyhD22ZfE3c0edd4IrVGQIYzKM\n",
      "Show all 15 projects\n",
      "https://www.linkedin.com/in/hanifizzudinr/details/projects?profileUrn=urn%3Ali%3Afsd_profile%3AACoAABbAq48B4hyhD22ZfE3c0edd4IrVGQIYzKM\n",
      "Show all 6 influencers\n",
      "https://www.linkedin.com/in/hanifizzudinr/details/interests?profileUrn=urn%3Ali%3Afsd_profile%3AACoAABbAq48B4hyhD22ZfE3c0edd4IrVGQIYzKM&tabIndex=0&detailScreenTabIndex=0\n",
      "\n",
      "https://www.linkedin.com/in/hanifizzudinr/details/interests?profileUrn=urn%3Ali%3Afsd_profile%3AACoAABbAq48B4hyhD22ZfE3c0edd4IrVGQIYzKM&tabIndex=1&detailScreenTabIndex=1\n",
      "\n",
      "https://www.linkedin.com/in/hanifizzudinr/details/interests?profileUrn=urn%3Ali%3Afsd_profile%3AACoAABbAq48B4hyhD22ZfE3c0edd4IrVGQIYzKM&tabIndex=2&detailScreenTabIndex=2\n",
      "\n",
      "https://www.linkedin.com/in/hanifizzudinr/details/interests?profileUrn=urn%3Ali%3Afsd_profile%3AACoAABbAq48B4hyhD22ZfE3c0edd4IrVGQIYzKM&tabIndex=3&detailScreenTabIndex=3\n"
     ]
    }
   ],
   "source": [
    "for a in anchors:\n",
    "    btn = a.find_element(By.CSS_SELECTOR, 'span.pvs-navigation__text')\n",
    "    print(btn.text)\n",
    "    print(a.get_attribute('href'))\n",
    "    # if 'licenses' in a.text:\n",
    "    #     a.click()\n",
    "    #     break"
   ]
  },
  {
   "cell_type": "code",
   "execution_count": 11,
   "metadata": {},
   "outputs": [],
   "source": [
    "keyword = 'experiences'\n",
    "for btn in anchors:\n",
    "    re_format = f'\\d+ {keyword}$'\n",
    "    if re.compile(re_format).search(btn.text):\n",
    "        btn.click()        \n",
    "        found_btn = True\n",
    "        break"
   ]
  },
  {
   "cell_type": "code",
   "execution_count": 51,
   "metadata": {},
   "outputs": [],
   "source": [
    "raw = BeautifulSoup(browser.page_source.encode('utf-8'), 'lxml')"
   ]
  },
  {
   "cell_type": "code",
   "execution_count": 42,
   "metadata": {},
   "outputs": [
    {
     "data": {
      "text/plain": [
       "[{'company': 'Jakarta Artificial Intelligence Research · Full-time',\n",
       "  'position': 'Data Science Fellow',\n",
       "  'duration': 'Oct 2021 - Present · 8 mos',\n",
       "  'location': 'Jakarta, Indonesia'},\n",
       " {'company': 'Mitra Informatika · Full-time',\n",
       "  'position': 'Data Engineer',\n",
       "  'duration': 'Dec 2020 - Jun 2021 · 7 mos',\n",
       "  'location': 'Surabaya, East Java, Indonesia'},\n",
       " {'company': 'Developer Student Clubs',\n",
       "  'position': 'Leader, DSC UNAIR',\n",
       "  'duration': 'Jul 2019 - Jul 2020 · 1 yr 1 mo',\n",
       "  'location': 'Surabaya, East Java, Indonesia'},\n",
       " {'company': 'Developer Student Clubs',\n",
       "  'position': 'Android Developer Mentor, DSC PENS',\n",
       "  'duration': 'Apr 2018 - Jun 2019 · 1 yr 3 mos',\n",
       "  'location': 'Surabaya, East Java, Indonesia'}]"
      ]
     },
     "execution_count": 42,
     "metadata": {},
     "output_type": "execute_result"
    }
   ],
   "source": [
    "def __experience_parser(raw_html, w_button=True):\n",
    "    # get experiences\n",
    "    if not w_button:                \n",
    "        experiences = raw_html.select('#experience + div + div > ul > li.artdeco-list__item > div > div:nth-child(2)')\n",
    "    else:\n",
    "        experiences = raw_html.select('ul > li.artdeco-list__item > div > div:nth-child(2)')\n",
    "        #  > div > div.display-flex\n",
    "    \n",
    "    exp_names = []\n",
    "    for e, exp in enumerate(experiences):        \n",
    "        nest = exp.select('div:nth-child(2) > ul > li > div.pvs-entity')\n",
    "        if len(nest) > 0:\n",
    "            # nested experience\n",
    "            header = exp.select_one('div > div.display-flex > a')\n",
    "            company = header.select_one('div.display-flex > span > span').text\n",
    "            try:\n",
    "                location = header.select_one('div + span + span > span').text\n",
    "            except:\n",
    "                location = None\n",
    "            # scrap data\n",
    "            for n in nest:\n",
    "                position = n.select_one('div > span > span').text\n",
    "                duration = n.select_one('div + span > span').text\n",
    "\n",
    "                item = {\n",
    "                    'company': company,\n",
    "                    'position': position,\n",
    "                    'duration': duration,\n",
    "                    'location': location\n",
    "                }\n",
    "                exp_names.append(item)\n",
    "        else:\n",
    "            # non-nested experience\n",
    "            exp = exp.select_one('div > div.display-flex')\n",
    "            position = exp.select_one('div > span > span').text\n",
    "            company = exp.select_one('div + span > span').text\n",
    "            duration = exp.select_one('div + span + span > span').text\n",
    "            try:\n",
    "                location = exp.select_one('div + span + span + span > span').text\n",
    "            except:\n",
    "                location = None\n",
    "\n",
    "            item = {\n",
    "                'company': company,\n",
    "                'position': position,\n",
    "                'duration': duration,\n",
    "                'location': location\n",
    "            }\n",
    "\n",
    "            exp_names.append(item)\n",
    "\n",
    "    return exp_names\n",
    "\n",
    "__experience_parser(raw, w_button=False)"
   ]
  },
  {
   "cell_type": "code",
   "execution_count": 53,
   "metadata": {},
   "outputs": [
    {
     "data": {
      "text/plain": [
       "[{'course': 'Introduction to Tableau', 'organization': 'DataCamp'},\n",
       " {'course': 'Analyzing Police Activity with pandas',\n",
       "  'organization': 'DataCamp'},\n",
       " {'course': 'Cleaning Data in Python', 'organization': 'DataCamp'},\n",
       " {'course': 'Exploratory Data Analysis in Python', 'organization': 'DataCamp'},\n",
       " {'course': 'Introduction to SQL', 'organization': 'DataCamp'},\n",
       " {'course': 'Joining Data in SQL', 'organization': 'DataCamp'},\n",
       " {'course': 'Streamlined Data Ingestion with pandas',\n",
       "  'organization': 'DataCamp'},\n",
       " {'course': 'Data Analysis Using Python', 'organization': 'IBM'},\n",
       " {'course': 'Data Science for Business - Level 1', 'organization': 'IBM'},\n",
       " {'course': 'Data Visualization Using Python', 'organization': 'IBM'},\n",
       " {'course': 'Deep Learning Essentials', 'organization': 'IBM'},\n",
       " {'course': 'Enterprise Design Thinking Practitioner', 'organization': 'IBM'},\n",
       " {'course': 'Intermediate Importing Data in Python',\n",
       "  'organization': 'DataCamp'},\n",
       " {'course': 'Introduction to Data Visualization with Matplotlib',\n",
       "  'organization': 'DataCamp'},\n",
       " {'course': 'Introduction to Data Visualization with Seaborn',\n",
       "  'organization': 'DataCamp'},\n",
       " {'course': 'Introduction to Importing Data in Python',\n",
       "  'organization': 'DataCamp'},\n",
       " {'course': 'Joining Data with pandas', 'organization': 'DataCamp'},\n",
       " {'course': 'Machine Learning with Python - Level 1', 'organization': 'IBM'},\n",
       " {'course': 'Python for Data Science', 'organization': 'IBM'},\n",
       " {'course': 'Big Data Foundations - Level 1', 'organization': 'IBM'},\n",
       " {'course': 'Cloud Core', 'organization': 'IBM'},\n",
       " {'course': 'Data Manipulation with pandas', 'organization': 'DataCamp'},\n",
       " {'course': 'Data Science Foundations - Level 1', 'organization': 'IBM'},\n",
       " {'course': 'Data Science Foundations - Level 2 (V2)', 'organization': 'IBM'},\n",
       " {'course': 'Data Science Methodologies', 'organization': 'IBM'},\n",
       " {'course': 'Introduction to Data Science in Python',\n",
       "  'organization': 'DataCamp'},\n",
       " {'course': 'Watson Studio Essentials', 'organization': 'IBM'},\n",
       " {'course': 'Intermediate Python', 'organization': 'DataCamp'},\n",
       " {'course': 'Belajar Machine Learning untuk Pemula',\n",
       "  'organization': 'Dicoding Indonesia'},\n",
       " {'course': 'Memulai Pemrograman Dengan Python',\n",
       "  'organization': 'Dicoding Indonesia'},\n",
       " {'course': 'Belajar Prinsip Pemrograman SOLID',\n",
       "  'organization': 'Dicoding Academy'},\n",
       " {'course': 'Memulai Pemrograman Dengan Kotlin',\n",
       "  'organization': 'Dicoding Academy'},\n",
       " {'course': 'Belajar Membuat Aplikasi Android untuk Pemula',\n",
       "  'organization': 'Dicoding Indonesia'},\n",
       " {'course': 'Menjadi Azure Cloud Developer',\n",
       "  'organization': 'Dicoding Indonesia'},\n",
       " {'course': 'Belajar Membangun Prototype Chatbot Dengan LINE Bot Designer',\n",
       "  'organization': 'Dicoding Indonesia'},\n",
       " {'course': 'Kotlin Android Developer Expert',\n",
       "  'organization': 'Dicoding Indonesia'},\n",
       " {'course': 'Belajar Membuat Aplikasi Kognitif',\n",
       "  'organization': 'Dicoding Indonesia'},\n",
       " {'course': 'Belajar Fundamental Aplikasi Android',\n",
       "  'organization': 'Dicoding Indonesia'},\n",
       " {'course': 'Belajar Membangun LINE Chatbot',\n",
       "  'organization': 'Dicoding Indonesia'}]"
      ]
     },
     "execution_count": 53,
     "metadata": {},
     "output_type": "execute_result"
    }
   ],
   "source": [
    "def __course_parser(raw_html, w_button=True):            \n",
    "    # get courses\n",
    "    if not w_button:\n",
    "        courses = raw_html.select('#licenses_and_certifications + div + div > ul > li.artdeco-list__item > div > div:nth-child(2) > div > a')\n",
    "    else:                \n",
    "        courses = raw_html.select('ul > li.artdeco-list__item > div > div:nth-child(2) > div > a')\n",
    "\n",
    "    course_names = []\n",
    "    for c in courses:\n",
    "        # course name\n",
    "        name = c.select_one('div > span > span').text\n",
    "        # issuing organization\n",
    "        organization = c.select_one('div + span > span').text\n",
    "\n",
    "        item = {\n",
    "            'course': name,\n",
    "            'organization': organization\n",
    "        } \n",
    "\n",
    "        course_names.append(item)\n",
    "    \n",
    "    return course_names\n",
    "\n",
    "__course_parser(raw, w_button=True)"
   ]
  },
  {
   "cell_type": "code",
   "execution_count": 33,
   "metadata": {},
   "outputs": [
    {
     "data": {
      "text/plain": [
       "<div class=\"display-flex align-items-center\">\n",
       "<span class=\"mr1 t-bold\">\n",
       "<span aria-hidden=\"true\"><!-- -->Tech Skills Day 2022<!-- --></span><span class=\"visually-hidden\"><!-- -->Tech Skills Day 2022<!-- --></span>\n",
       "</span>\n",
       "<!-- --><!-- --><!-- --> </div>"
      ]
     },
     "execution_count": 33,
     "metadata": {},
     "output_type": "execute_result"
    }
   ],
   "source": [
    "experiences = raw.select('ul > li.artdeco-list__item > div > div:nth-child(2)')\n",
    "experiences[0].select_one('div > div.display-flex')"
   ]
  },
  {
   "cell_type": "code",
   "execution_count": 61,
   "metadata": {},
   "outputs": [
    {
     "data": {
      "text/plain": [
       "'Machine Learning with Python'"
      ]
     },
     "execution_count": 61,
     "metadata": {},
     "output_type": "execute_result"
    }
   ],
   "source": [
    "courses = raw.select('ul > li.artdeco-list__item > div > div:nth-child(2) > div > a')\n",
    "# courses[0].select_one('div > span > span:nth-child(1)').text\n",
    "courses[0].select_one('div > span > span').text"
   ]
  },
  {
   "cell_type": "code",
   "execution_count": 106,
   "metadata": {},
   "outputs": [
    {
     "data": {
      "text/plain": [
       "'Machine Learning with Python'"
      ]
     },
     "execution_count": 106,
     "metadata": {},
     "output_type": "execute_result"
    }
   ],
   "source": [
    "# scrap courses in the profile page\n",
    "courses = raw.select('#licenses_and_certifications + div + div > ul > li.artdeco-list__item > div > div:nth-child(2) > div > a')\n",
    "courses[0].select_one('div > span > span').text"
   ]
  },
  {
   "cell_type": "code",
   "execution_count": 112,
   "metadata": {},
   "outputs": [
    {
     "data": {
      "text/plain": [
       "'AQEDARyUVaEDoLC2AAABgOea8hgAAAGBC6d2GFYAuCMqwDxnIg3N6QAYWzN9K9bzR0kd5Ti8HhIZUx9KpfeWvFjx4OOL9je3bfzVaahYYYUC7s0UD3C-I9TfFp-drdruO922tN7AGx-QCslAARRsluxq'"
      ]
     },
     "execution_count": 112,
     "metadata": {},
     "output_type": "execute_result"
    }
   ],
   "source": [
    "browser.get_cookie('li_at')['value']"
   ]
  },
  {
   "cell_type": "code",
   "execution_count": null,
   "metadata": {},
   "outputs": [],
   "source": [
    "# scrap educations in the profile page\n",
    "edus = raw.select('#education + div + div > ul > li.artdeco-list__item > div > div:nth-child(2) > div > a')\n",
    "edus"
   ]
  },
  {
   "cell_type": "markdown",
   "metadata": {},
   "source": [
    "## Getting Experiences data"
   ]
  },
  {
   "cell_type": "code",
   "execution_count": 43,
   "metadata": {},
   "outputs": [
    {
     "ename": "TimeoutException",
     "evalue": "Message: \n",
     "output_type": "error",
     "traceback": [
      "\u001b[1;31m---------------------------------------------------------------------------\u001b[0m",
      "\u001b[1;31mTimeoutException\u001b[0m                          Traceback (most recent call last)",
      "\u001b[1;32m<ipython-input-43-88364170d4fb>\u001b[0m in \u001b[0;36m<module>\u001b[1;34m\u001b[0m\n\u001b[1;32m----> 1\u001b[1;33m \u001b[0mbrowser_wait\u001b[0m\u001b[1;33m(\u001b[0m\u001b[0mbrowser\u001b[0m\u001b[1;33m,\u001b[0m \u001b[1;34m'#licenses_and_certifications'\u001b[0m\u001b[1;33m,\u001b[0m \u001b[0mBy\u001b[0m\u001b[1;33m.\u001b[0m\u001b[0mCSS_SELECTOR\u001b[0m\u001b[1;33m,\u001b[0m \u001b[1;36m15\u001b[0m\u001b[1;33m)\u001b[0m\u001b[1;33m\u001b[0m\u001b[1;33m\u001b[0m\u001b[0m\n\u001b[0m",
      "\u001b[1;32m<ipython-input-6-db060994dafa>\u001b[0m in \u001b[0;36mbrowser_wait\u001b[1;34m(driver, element, locator, timeout)\u001b[0m\n\u001b[0;32m      1\u001b[0m \u001b[1;32mdef\u001b[0m \u001b[0mbrowser_wait\u001b[0m\u001b[1;33m(\u001b[0m\u001b[0mdriver\u001b[0m\u001b[1;33m,\u001b[0m \u001b[0melement\u001b[0m\u001b[1;33m,\u001b[0m \u001b[0mlocator\u001b[0m\u001b[1;33m=\u001b[0m\u001b[0mBy\u001b[0m\u001b[1;33m.\u001b[0m\u001b[0mXPATH\u001b[0m\u001b[1;33m,\u001b[0m \u001b[0mtimeout\u001b[0m\u001b[1;33m=\u001b[0m\u001b[1;36m10\u001b[0m\u001b[1;33m)\u001b[0m\u001b[1;33m:\u001b[0m\u001b[1;33m\u001b[0m\u001b[1;33m\u001b[0m\u001b[0m\n\u001b[1;32m----> 2\u001b[1;33m     return WebDriverWait(driver, timeout).until(\n\u001b[0m\u001b[0;32m      3\u001b[0m         \u001b[0mEC\u001b[0m\u001b[1;33m.\u001b[0m\u001b[0mvisibility_of_element_located\u001b[0m\u001b[1;33m(\u001b[0m\u001b[1;33m(\u001b[0m\u001b[0mlocator\u001b[0m\u001b[1;33m,\u001b[0m \u001b[0melement\u001b[0m\u001b[1;33m)\u001b[0m\u001b[1;33m)\u001b[0m\u001b[1;33m\u001b[0m\u001b[1;33m\u001b[0m\u001b[0m\n\u001b[0;32m      4\u001b[0m     )\n\u001b[0;32m      5\u001b[0m \u001b[1;33m\u001b[0m\u001b[0m\n",
      "\u001b[1;32mc:\\Users\\fahrizain\\Anaconda3\\lib\\site-packages\\selenium-4.1.5-py3.8.egg\\selenium\\webdriver\\support\\wait.py\u001b[0m in \u001b[0;36muntil\u001b[1;34m(self, method, message)\u001b[0m\n\u001b[0;32m     87\u001b[0m             \u001b[1;32mif\u001b[0m \u001b[0mtime\u001b[0m\u001b[1;33m.\u001b[0m\u001b[0mmonotonic\u001b[0m\u001b[1;33m(\u001b[0m\u001b[1;33m)\u001b[0m \u001b[1;33m>\u001b[0m \u001b[0mend_time\u001b[0m\u001b[1;33m:\u001b[0m\u001b[1;33m\u001b[0m\u001b[1;33m\u001b[0m\u001b[0m\n\u001b[0;32m     88\u001b[0m                 \u001b[1;32mbreak\u001b[0m\u001b[1;33m\u001b[0m\u001b[1;33m\u001b[0m\u001b[0m\n\u001b[1;32m---> 89\u001b[1;33m         \u001b[1;32mraise\u001b[0m \u001b[0mTimeoutException\u001b[0m\u001b[1;33m(\u001b[0m\u001b[0mmessage\u001b[0m\u001b[1;33m,\u001b[0m \u001b[0mscreen\u001b[0m\u001b[1;33m,\u001b[0m \u001b[0mstacktrace\u001b[0m\u001b[1;33m)\u001b[0m\u001b[1;33m\u001b[0m\u001b[1;33m\u001b[0m\u001b[0m\n\u001b[0m\u001b[0;32m     90\u001b[0m \u001b[1;33m\u001b[0m\u001b[0m\n\u001b[0;32m     91\u001b[0m     \u001b[1;32mdef\u001b[0m \u001b[0muntil_not\u001b[0m\u001b[1;33m(\u001b[0m\u001b[0mself\u001b[0m\u001b[1;33m,\u001b[0m \u001b[0mmethod\u001b[0m\u001b[1;33m,\u001b[0m \u001b[0mmessage\u001b[0m\u001b[1;33m=\u001b[0m\u001b[1;34m''\u001b[0m\u001b[1;33m)\u001b[0m\u001b[1;33m:\u001b[0m\u001b[1;33m\u001b[0m\u001b[1;33m\u001b[0m\u001b[0m\n",
      "\u001b[1;31mTimeoutException\u001b[0m: Message: \n"
     ]
    }
   ],
   "source": [
    "browser_wait(browser, '#licenses_and_certifications', By.CSS_SELECTOR, 15)"
   ]
  },
  {
   "cell_type": "markdown",
   "metadata": {},
   "source": [
    "### Regular format experience selector in profile page"
   ]
  },
  {
   "cell_type": "code",
   "execution_count": 38,
   "metadata": {},
   "outputs": [
    {
     "name": "stdout",
     "output_type": "stream",
     "text": [
      "Data Science Fellow\n",
      "Jakarta Artificial Intelligence Research · Full-time\n",
      "Oct 2021 - Present · 8 mos\n",
      "Jakarta, Indonesia\n"
     ]
    }
   ],
   "source": [
    "# scrap experience in the profile page\n",
    "exps = raw.select('#experience + div + div > ul > li.artdeco-list__item > div > div:nth-child(2) > div > div.display-flex')\n",
    "print(exps[0].select_one('div > span > span').text) # position\n",
    "print(exps[0].select_one('div + span > span').text) # company\n",
    "print(exps[0].select_one('div + span + span > span').text) # duration\n",
    "print(exps[0].select_one('div + span + span + span > span').text) # location"
   ]
  },
  {
   "cell_type": "markdown",
   "metadata": {},
   "source": [
    "### Nested experience selector in profile page"
   ]
  },
  {
   "cell_type": "code",
   "execution_count": 52,
   "metadata": {},
   "outputs": [
    {
     "name": "stdout",
     "output_type": "stream",
     "text": [
      "Leader, DSC UNAIR\n",
      "Jul 2019 - Jul 2020 · 1 yr 1 mo\n"
     ]
    }
   ],
   "source": [
    "# in the profile page\n",
    "exps = raw.select('#experience + div + div > ul > li.artdeco-list__item > div > div:nth-child(2)')\n",
    "nest = exps[2].select('div:nth-child(2) > ul > li > div.pvs-entity')\n",
    "print(nest[0].select_one('div > span > span').text)     # position\n",
    "print(nest[0].select_one('div + span > span').text)     # duration"
   ]
  },
  {
   "cell_type": "code",
   "execution_count": 79,
   "metadata": {},
   "outputs": [
    {
     "data": {
      "text/plain": [
       "'Surabaya, East Java, Indonesia'"
      ]
     },
     "execution_count": 79,
     "metadata": {},
     "output_type": "execute_result"
    }
   ],
   "source": [
    "header = exps[2].select_one('div > div.display-flex > a')\n",
    "header.select_one('div.display-flex > span > span').text\n",
    "header.select_one('div + span + span > span').text"
   ]
  },
  {
   "cell_type": "markdown",
   "metadata": {},
   "source": [
    "### Regular format experience selector in Detail Experience"
   ]
  },
  {
   "cell_type": "code",
   "execution_count": 8,
   "metadata": {},
   "outputs": [],
   "source": [
    "# scrap experience in detail experience page\n",
    "anchors = browser_wait_multi(browser, 'a.optional-action-target-wrapper.artdeco-button.artdeco-button--tertiary > span.pvs-navigation__text', By.CSS_SELECTOR, 30)\n",
    "for a in anchors:\n",
    "    if 'experience' in a.text:\n",
    "        a.click()\n",
    "        break"
   ]
  },
  {
   "cell_type": "code",
   "execution_count": 13,
   "metadata": {},
   "outputs": [
    {
     "name": "stdout",
     "output_type": "stream",
     "text": [
      "Analista de pruebas de software\n",
      "CENET SA · Full-time\n",
      "Apr 2016 - Apr 2018 · 2 yrs 1 mo\n",
      "Bogotá D.C., Colombia\n"
     ]
    }
   ],
   "source": [
    "raw = BeautifulSoup(browser.page_source.encode('utf-8'), 'lxml')\n",
    "exps = raw.select('ul > li.artdeco-list__item > div > div:nth-child(2) > div > div.display-flex')\n",
    "print(exps[1].select_one('div > span > span').text) # position\n",
    "print(exps[1].select_one('div + span > span').text) # company\n",
    "print(exps[1].select_one('div + span + span > span').text) # duration\n",
    "print(exps[1].select_one('div + span + span + span > span').text) # location"
   ]
  },
  {
   "cell_type": "markdown",
   "metadata": {},
   "source": [
    "## Getting connections of connection"
   ]
  },
  {
   "cell_type": "code",
   "execution_count": 49,
   "metadata": {},
   "outputs": [
    {
     "name": "stdout",
     "output_type": "stream",
     "text": [
      "<selenium.webdriver.remote.webelement.WebElement (session=\"4ccc3bea51fead360bab2cf6320b1301\", element=\"c2fe6bdf-cbf0-493f-9e93-6906e9058ae6\")>\n"
     ]
    }
   ],
   "source": [
    "link = browser_wait(browser, 'li.text-body-small > a', By.CSS_SELECTOR, 30)\n",
    "print(link)\n",
    "link.click()"
   ]
  },
  {
   "cell_type": "code",
   "execution_count": 50,
   "metadata": {},
   "outputs": [],
   "source": [
    "try:\n",
    "    # trigger filter dropdown\n",
    "    filter_btn = browser_wait(\n",
    "        browser, \n",
    "        'div.search-reusables__filter-trigger-and-dropdown:nth-child(1)', \n",
    "        By.CSS_SELECTOR, \n",
    "        timeout=30\n",
    "    )\n",
    "    filter_btn.click()\n",
    "\n",
    "    # disable 1st circle connection\n",
    "    first_circle = browser_wait(\n",
    "        browser, \n",
    "        'li.search-reusables__collection-values-item:nth-child(1) > label', \n",
    "        By.CSS_SELECTOR, \n",
    "        timeout=30\n",
    "    )\n",
    "    first_circle.click()\n",
    "\n",
    "    # enable 3rd circle connection\n",
    "    third_circle = browser_wait(\n",
    "        browser, \n",
    "        'li.search-reusables__collection-values-item:nth-child(3) > label', \n",
    "        By.CSS_SELECTOR, \n",
    "        timeout=30\n",
    "    )\n",
    "    third_circle.click()\n",
    "\n",
    "    # submit option\n",
    "    submit = browser_wait(browser, '/html/body/div[7]/div[3]/div[2]/section/div/nav/div/ul/li[3]/div/div/div/div[1]/div/form/fieldset/div[2]/button[2]')\n",
    "    submit.click()\n",
    "except:\n",
    "    print('There is a problem when we trying to filter connection to 2nd and 3rd circle.')"
   ]
  },
  {
   "cell_type": "code",
   "execution_count": 53,
   "metadata": {},
   "outputs": [],
   "source": [
    "last_height = browser.execute_script('return document.body.scrollHeight')\n",
    "while True:    \n",
    "    # scroll until the last record\n",
    "    scroll(browser, end=1000)    \n",
    "    time.sleep(2)\n",
    "    new_height = browser.execute_script('return document.body.scrollHeight')\n",
    "    # if scroll reach the end\n",
    "    if new_height == last_height:        \n",
    "        break\n",
    "    \n",
    "    last_height = new_height"
   ]
  },
  {
   "cell_type": "code",
   "execution_count": 54,
   "metadata": {},
   "outputs": [
    {
     "name": "stdout",
     "output_type": "stream",
     "text": [
      "False\n",
      "NEXT_PAGE\n"
     ]
    }
   ],
   "source": [
    "btn_class = 'button.artdeco-pagination__button--next'\n",
    "# click next button\n",
    "next_btn = browser_wait(\n",
    "    browser,\n",
    "    btn_class,\n",
    "    locator=By.CSS_SELECTOR,\n",
    "    timeout=50\n",
    ")\n",
    "# check if button is clickable\n",
    "is_disabled = browser.execute_script(\n",
    "    f'return document.querySelector(\"{btn_class}\").classList.contains(\"artdeco-button--disabled\")'\n",
    ")\n",
    "print(is_disabled)\n",
    "# next_btn = is_element_clickable(\n",
    "#     browser, \n",
    "#     'button.artdeco-pagination__button--next',\n",
    "#     locator=By.CSS_SELECTOR,\n",
    "#     timeout=50\n",
    "# )\n",
    "\n",
    "if not is_disabled:\n",
    "    # button still clickable\n",
    "    next_btn.click()\n",
    "    print('NEXT_PAGE')\n",
    "else:\n",
    "    print('END_PAGE')"
   ]
  },
  {
   "cell_type": "code",
   "execution_count": 119,
   "metadata": {},
   "outputs": [
    {
     "name": "stdout",
     "output_type": "stream",
     "text": [
      "<selenium.webdriver.remote.webelement.WebElement (session=\"82bb0f6927ca24d3dc34122684cb4d0a\", element=\"faf6ec61-aeb2-4876-8e4c-f0b0ad1af7e1\")>\n"
     ]
    }
   ],
   "source": [
    "browser.get('https://linkedin.com/in/sie-evan-setiawan/')\n",
    "# link = browser_wait(browser, 'link-without-visited-state:nth-child(2)', locator=By.CLASS_NAME, timeout=120)\n",
    "# WebDriverWait(browser, 10)\n",
    "# link = browser.find_element(By.XPATH, '/html/body/div[6]/div[3]/div/div/div[2]/div/div/main/section[1]/div[2]/ul/li/a')\n",
    "# link = WebDriverWait(browser, 30).until(\n",
    "#         EC.presence_of_element_located((By.CSS_SELECTOR, 'li.text-body-small:nth-child(2)'))\n",
    "#     )\n",
    "link = browser_wait(browser, 'li.text-body-small:nth-child(2)', By.CSS_SELECTOR, 30)\n",
    "print(link)"
   ]
  },
  {
   "cell_type": "code",
   "execution_count": 72,
   "metadata": {},
   "outputs": [],
   "source": [
    "link.click()"
   ]
  },
  {
   "cell_type": "code",
   "execution_count": 75,
   "metadata": {},
   "outputs": [],
   "source": [
    "filter_btn = browser_wait(browser, 'div.search-reusables__filter-trigger-and-dropdown:nth-child(1)', By.CSS_SELECTOR, timeout=30)\n",
    "filter_btn.click()\n",
    "\n",
    "first_circle = browser_wait(browser, 'li.search-reusables__collection-values-item:nth-child(1) > label', By.CSS_SELECTOR, timeout=30)\n",
    "first_circle.click()\n",
    "third_circle = browser_wait(browser, 'li.search-reusables__collection-values-item:nth-child(3) > label', By.CSS_SELECTOR, timeout=30)\n",
    "third_circle.click()"
   ]
  },
  {
   "cell_type": "code",
   "execution_count": 67,
   "metadata": {},
   "outputs": [],
   "source": [
    "submit = browser_wait(browser, '/html/body/div[7]/div[3]/div[2]/section/div/nav/div/ul/li[3]/div/div/div/div[1]/div/form/fieldset/div[2]/button[2]')\n",
    "submit.click()"
   ]
  },
  {
   "cell_type": "code",
   "execution_count": 68,
   "metadata": {},
   "outputs": [
    {
     "data": {
      "text/plain": [
       "<selenium.webdriver.remote.webelement.WebElement (session=\"3bec0805c7b54e7b05113556ffb54bfa\", element=\"8969d98c-084f-44f7-8ecf-4962b03821fa\")>"
      ]
     },
     "execution_count": 68,
     "metadata": {},
     "output_type": "execute_result"
    }
   ],
   "source": [
    "next = browser_wait(browser, '/html/body/div[7]/div[3]/div[2]/div/div[1]/main/div/div/div[3]/div/div/button[2]')\n",
    "next"
   ]
  },
  {
   "cell_type": "code",
   "execution_count": 122,
   "metadata": {},
   "outputs": [
    {
     "data": {
      "text/plain": [
       "<selenium.webdriver.remote.webelement.WebElement (session=\"82bb0f6927ca24d3dc34122684cb4d0a\", element=\"1b0c618d-41bb-4be9-aa41-0ddf2753ea8d\")>"
      ]
     },
     "execution_count": 122,
     "metadata": {},
     "output_type": "execute_result"
    }
   ],
   "source": [
    "WebDriverWait(browser, 30).until(\n",
    "        EC.element_to_be_clickable((By.CSS_SELECTOR, 'button.artdeco-pagination__button--next')))\n",
    "                                        #       '/html/body/div[7]/div[3]/div[2]/div/div[1]/main/div/div/div[3]/div/div/button[2]'\n",
    "                                        #       '/html/body/div[7]/div[3]/div[2]/div/div[1]/main/div/div/div/div[2]/div/button[2]'\n",
    "        # EC.element_to_be_clickable((By.XPATH, '/html/body/div[7]/div[3]/div[2]/div/div[1]/main/div/div/div[3]/div/div/button[1]')))"
   ]
  },
  {
   "cell_type": "code",
   "execution_count": null,
   "metadata": {},
   "outputs": [],
   "source": [
    "# scrap item\n",
    "connections = BeautifulSoup(browser.page_source.encode('utf-8'), 'html')\n",
    "connections.prettify()"
   ]
  },
  {
   "cell_type": "code",
   "execution_count": 80,
   "metadata": {},
   "outputs": [
    {
     "data": {
      "text/plain": [
       "10"
      ]
     },
     "execution_count": 80,
     "metadata": {},
     "output_type": "execute_result"
    }
   ],
   "source": [
    "containers = connections.findAll('div', {'class': 'entity-result__item'})\n",
    "len(containers)"
   ]
  },
  {
   "cell_type": "code",
   "execution_count": 109,
   "metadata": {},
   "outputs": [
    {
     "name": "stdout",
     "output_type": "stream",
     "text": [
      "Ladinda Tasya\n"
     ]
    }
   ],
   "source": [
    "for c in containers:\n",
    "    heading = c.find('span', {'class': 'entity-result__title-text t-16'})    \n",
    "    # data properties\n",
    "    name = heading.find('span', {'dir': 'ltr'}).span.text\n",
    "    circle_level = heading.find('span', {'class': 'image-text-lockup__text entity-result__badge-text'}).span.text.split()[-1][0]\n",
    "    profile_link = heading.a['href']\n",
    "    occupation = c.find('div', {'class': 'entity-result__primary-subtitle t-14 t-black t-normal'}).text.strip()\n",
    "    \n",
    "    break"
   ]
  },
  {
   "cell_type": "code",
   "execution_count": 4,
   "metadata": {},
   "outputs": [],
   "source": [
    "import threading\n",
    "from queue import Queue\n",
    "import time"
   ]
  },
  {
   "cell_type": "code",
   "execution_count": 5,
   "metadata": {},
   "outputs": [
    {
     "name": "stdout",
     "output_type": "stream",
     "text": [
      "WARNING - li_at value is None.\n",
      "Attempting to login...\n",
      "WARNING - li_at value is None.\n",
      "Attempting to login...\n",
      "WARNING - li_at value is None.\n",
      "Attempting to login...\n",
      "WARNING - li_at value is None.\n",
      "Attempting to login...\n",
      "WARNING - li_at value is None.\n",
      "Attempting to login...\n"
     ]
    },
    {
     "data": {
      "text/plain": [
       "5"
      ]
     },
     "execution_count": 5,
     "metadata": {},
     "output_type": "execute_result"
    }
   ],
   "source": [
    "qlist = []\n",
    "\n",
    "for i in range(5):\n",
    "    # specify chrome options\n",
    "    options = webdriver.ChromeOptions()\n",
    "    options.add_argument('--incognito')\n",
    "    options.add_argument('--disable-gpu')\n",
    "    options.add_argument('--disable-extensions')\n",
    "    # options.add_argument('--headless')\n",
    "    browser = webdriver.Chrome(options=options)\n",
    "    \n",
    "    actions = Actions(browser, c)\n",
    "    actions.do_login()\n",
    "\n",
    "    qlist.append(browser)\n",
    "\n",
    "len(qlist)"
   ]
  },
  {
   "cell_type": "code",
   "execution_count": 7,
   "metadata": {},
   "outputs": [
    {
     "data": {
      "text/plain": [
       "5"
      ]
     },
     "execution_count": 7,
     "metadata": {},
     "output_type": "execute_result"
    }
   ],
   "source": [
    "from objectpool import ObjectPool\n",
    "pool = ObjectPool.get_instance()\n",
    "pool.set_resource(qlist)\n",
    "pool.get_total_resource()"
   ]
  },
  {
   "cell_type": "code",
   "execution_count": 15,
   "metadata": {},
   "outputs": [],
   "source": [
    "links = [\n",
    "    'https://linkedin.com/in/sie-evan-setiawan/',\n",
    "    'https://linkedin.com/in/erika-dwi-puspitasari-965b7318b/',\n",
    "    'https://linkedin.com/in/ekaterina-shlenova-714504189/',\n",
    "    'https://linkedin.com/in/eef-hikmat-13332a1a6/',\n",
    "    'https://linkedin.com/in/amaharani/',\n",
    "    'https://linkedin.com/in/nemat-allah-aloush-60887a1a9/',\n",
    "    'https://linkedin.com/in/rayhanozzy/',\n",
    "    'https://linkedin.com/in/reynaldipriandika/',\n",
    "    'https://linkedin.com/in/faisal-ichsan/',\n",
    "    'https://linkedin.com/in/sisca-fahrudha-retno-agustina-119396183/',\n",
    "    'https://linkedin.com/in/muhammad-abil-nurjani/',\n",
    "    'https://linkedin.com/in/mishrag37/',\n",
    "    'https://linkedin.com/in/rahmatri-mardiko-56720690/',\n",
    "    'https://linkedin.com/in/bintang-muhammad-326827140/',\n",
    "    'https://linkedin.com/in/hanifizzudinr/',\n",
    "    'https://linkedin.com/in/frdaamalia/',\n",
    "    'https://linkedin.com/in/andrey-kiselevich-368165232/',\n",
    "    'https://linkedin.com/in/masetarahma/',\n",
    "    'https://linkedin.com/in/ika-sulistiorini-a3032a152/',\n",
    "    'https://linkedin.com/in/cerelia-devina-tantia-vinci-ninggalih-1949571b6/',\n",
    "    'https://linkedin.com/in/ilhamnurakbar/',\n",
    "    'https://linkedin.com/in/wahyu-nur-abidin-b20b26222/',\n",
    "    'https://linkedin.com/in/houssam-hammoudi/',\n",
    "    'https://linkedin.com/in/vladislav-vasiljev-a3a22021a/',\n",
    "    'https://linkedin.com/in/ayu-anggraini30/'\n",
    "]"
   ]
  },
  {
   "cell_type": "code",
   "execution_count": 16,
   "metadata": {},
   "outputs": [],
   "source": [
    "lock_db = threading.Lock()\n",
    "\n",
    "def dumper_thread(profile_link, op, thread_name):\n",
    "    while True:\n",
    "        print(f'{thread_name} borrowing object...')\n",
    "        driver = op.borrow_resource()\n",
    "        print(f'{thread_name} opening link...')\n",
    "        driver.get(profile_link)\n",
    "        print(f'{thread_name} dumping html...')\n",
    "        # TODO: dump html\n",
    "        with lock_db:\n",
    "            print(f'{thread_name} inserting to db...')\n",
    "            time.sleep(10)\n",
    "        print(f'{thread_name} returning resource...')\n",
    "        op.return_resource(driver)\n",
    "        print(f'{thread_name} done.')\n",
    "        break\n",
    "\n",
    "threads = []\n",
    "for i, item in enumerate(links):\n",
    "    thread_name = f'Thread-{i}'\n",
    "    t = threading.Thread(target=dumper_thread, args=(item, pool, thread_name))\n",
    "    t.name = thread_name\n",
    "    threads.append(t)"
   ]
  },
  {
   "cell_type": "code",
   "execution_count": 19,
   "metadata": {},
   "outputs": [
    {
     "name": "stdout",
     "output_type": "stream",
     "text": [
      "Thread-24 borrowing object...\n",
      "Thread-24 opening link...\n"
     ]
    },
    {
     "ename": "RuntimeError",
     "evalue": "threads can only be started once",
     "output_type": "error",
     "traceback": [
      "\u001b[1;31m---------------------------------------------------------------------------\u001b[0m",
      "\u001b[1;31mRuntimeError\u001b[0m                              Traceback (most recent call last)",
      "\u001b[1;32m<ipython-input-19-fbb63621c0b8>\u001b[0m in \u001b[0;36m<module>\u001b[1;34m\u001b[0m\n\u001b[0;32m      3\u001b[0m \u001b[1;33m\u001b[0m\u001b[0m\n\u001b[0;32m      4\u001b[0m \u001b[1;32mfor\u001b[0m \u001b[0m_\u001b[0m \u001b[1;32min\u001b[0m \u001b[0mrange\u001b[0m\u001b[1;33m(\u001b[0m\u001b[0mmax_thread_exec\u001b[0m\u001b[1;33m)\u001b[0m\u001b[1;33m:\u001b[0m\u001b[1;33m\u001b[0m\u001b[1;33m\u001b[0m\u001b[0m\n\u001b[1;32m----> 5\u001b[1;33m     \u001b[0mthreads\u001b[0m\u001b[1;33m[\u001b[0m\u001b[0mcurr_thread\u001b[0m\u001b[1;33m]\u001b[0m\u001b[1;33m.\u001b[0m\u001b[0mstart\u001b[0m\u001b[1;33m(\u001b[0m\u001b[1;33m)\u001b[0m\u001b[1;33m\u001b[0m\u001b[1;33m\u001b[0m\u001b[0m\n\u001b[0m\u001b[0;32m      6\u001b[0m     \u001b[0mcurr_thread\u001b[0m \u001b[1;33m+=\u001b[0m \u001b[1;36m1\u001b[0m\u001b[1;33m\u001b[0m\u001b[1;33m\u001b[0m\u001b[0m\n",
      "\u001b[1;32mc:\\Users\\fahrizain\\Anaconda3\\lib\\threading.py\u001b[0m in \u001b[0;36mstart\u001b[1;34m(self)\u001b[0m\n\u001b[0;32m    846\u001b[0m \u001b[1;33m\u001b[0m\u001b[0m\n\u001b[0;32m    847\u001b[0m         \u001b[1;32mif\u001b[0m \u001b[0mself\u001b[0m\u001b[1;33m.\u001b[0m\u001b[0m_started\u001b[0m\u001b[1;33m.\u001b[0m\u001b[0mis_set\u001b[0m\u001b[1;33m(\u001b[0m\u001b[1;33m)\u001b[0m\u001b[1;33m:\u001b[0m\u001b[1;33m\u001b[0m\u001b[1;33m\u001b[0m\u001b[0m\n\u001b[1;32m--> 848\u001b[1;33m             \u001b[1;32mraise\u001b[0m \u001b[0mRuntimeError\u001b[0m\u001b[1;33m(\u001b[0m\u001b[1;34m\"threads can only be started once\"\u001b[0m\u001b[1;33m)\u001b[0m\u001b[1;33m\u001b[0m\u001b[1;33m\u001b[0m\u001b[0m\n\u001b[0m\u001b[0;32m    849\u001b[0m         \u001b[1;32mwith\u001b[0m \u001b[0m_active_limbo_lock\u001b[0m\u001b[1;33m:\u001b[0m\u001b[1;33m\u001b[0m\u001b[1;33m\u001b[0m\u001b[0m\n\u001b[0;32m    850\u001b[0m             \u001b[0m_limbo\u001b[0m\u001b[1;33m[\u001b[0m\u001b[0mself\u001b[0m\u001b[1;33m]\u001b[0m \u001b[1;33m=\u001b[0m \u001b[0mself\u001b[0m\u001b[1;33m\u001b[0m\u001b[1;33m\u001b[0m\u001b[0m\n",
      "\u001b[1;31mRuntimeError\u001b[0m: threads can only be started once"
     ]
    },
    {
     "name": "stdout",
     "output_type": "stream",
     "text": [
      "Thread-24 dumping html...\n",
      "Thread-24 inserting to db...\n",
      "Thread-24 returning resource...\n",
      "Thread-24 done.\n"
     ]
    }
   ],
   "source": [
    "max_thread_exec = 5\n",
    "curr_thread = 0\n",
    "\n",
    "for _ in range(max_thread_exec):\n",
    "    threads[curr_thread].start()\n",
    "    curr_thread += 1"
   ]
  },
  {
   "cell_type": "code",
   "execution_count": 18,
   "metadata": {},
   "outputs": [
    {
     "data": {
      "text/plain": [
       "5"
      ]
     },
     "execution_count": 18,
     "metadata": {},
     "output_type": "execute_result"
    }
   ],
   "source": [
    "curr_thread"
   ]
  },
  {
   "cell_type": "code",
   "execution_count": 39,
   "metadata": {},
   "outputs": [
    {
     "name": "stderr",
     "output_type": "stream",
     "text": [
      "Exception in thread Thread-74:\n",
      "Traceback (most recent call last):\n",
      "  File \"c:\\Users\\fahrizain\\Anaconda3\\lib\\threading.py\", line 932, in _bootstrap_inner\n",
      "Exception in thread Thread-75:\n",
      "Traceback (most recent call last):\n",
      "  File \"c:\\Users\\fahrizain\\Anaconda3\\lib\\threading.py\", line 932, in _bootstrap_inner\n",
      "Exception in thread Thread-76:\n",
      "Traceback (most recent call last):\n",
      "  File \"c:\\Users\\fahrizain\\Anaconda3\\lib\\threading.py\", line 932, in _bootstrap_inner\n",
      "Exception in thread Thread-77:\n",
      "Traceback (most recent call last):\n",
      "  File \"c:\\Users\\fahrizain\\Anaconda3\\lib\\threading.py\", line 932, in _bootstrap_inner\n",
      "    self.run()\n",
      "        self.run()\n",
      "  File \"c:\\Users\\fahrizain\\Anaconda3\\lib\\threading.py\", line 870, in run\n",
      "self.run()\n",
      "  File \"c:\\Users\\fahrizain\\Anaconda3\\lib\\threading.py\", line 870, in run\n",
      "      File \"c:\\Users\\fahrizain\\Anaconda3\\lib\\threading.py\", line 870, in run\n",
      "Exception in thread Thread-78:\n",
      "Traceback (most recent call last):\n",
      "  File \"c:\\Users\\fahrizain\\Anaconda3\\lib\\threading.py\", line 932, in _bootstrap_inner\n",
      "self.run()\n",
      "  File \"c:\\Users\\fahrizain\\Anaconda3\\lib\\threading.py\", line 870, in run\n",
      "    self._target(*self._args, **self._kwargs)\n",
      "TypeError: dumper_thread() argument after * must be an iterable, not Queue\n",
      "    self._target(*self._args, **self._kwargs)\n",
      "TypeError: dumper_thread() argument after * must be an iterable, not Queue\n",
      "    self._target(*self._args, **self._kwargs)\n",
      "    self.run()\n",
      "  File \"c:\\Users\\fahrizain\\Anaconda3\\lib\\threading.py\", line 870, in run\n",
      "    self._target(*self._args, **self._kwargs)\n",
      "TypeError: dumper_thread() argument after * must be an iterable, not Queue\n",
      "TypeError: dumper_thread() argument after * must be an iterable, not Queue\n",
      "    self._target(*self._args, **self._kwargs)\n",
      "TypeError: dumper_thread() argument after * must be an iterable, not Queue\n"
     ]
    }
   ],
   "source": [
    "insert_count = 0\n",
    "\n",
    "def dumper_thread(queue):\n",
    "    while True:        \n",
    "        try:\n",
    "            i, item = queue.get()\n",
    "            thread_name = f'Thread-{i}'\n",
    "            print(f'{thread_name} borrowing resource...')\n",
    "            driver = pool.borrow_resource()\n",
    "            print(f'{thread_name} opening link...')\n",
    "            driver.get(item)\n",
    "            print(f'{thread_name} dumping page...')                \n",
    "            time.sleep(3)\n",
    "\n",
    "            with lock_db:\n",
    "                print(f'{thread_name} inserting to db...')\n",
    "                time.sleep(10)\n",
    "\n",
    "            print(f'{thread_name} done.')\n",
    "            queue.task_done()\n",
    "            \n",
    "        except:\n",
    "            raise SystemError('No free resource currently.')\n",
    "    \n",
    "\n",
    "for _ in range(5):    \n",
    "    t = threading.Thread(target=dumper_thread, args=(qlinks))\n",
    "    t.start()"
   ]
  },
  {
   "cell_type": "code",
   "execution_count": 30,
   "metadata": {},
   "outputs": [
    {
     "name": "stdout",
     "output_type": "stream",
     "text": [
      "Thread-0 starting...\n",
      "Thread-0 attempting to update count...\n",
      "Count was updated by thread-0!\n",
      "Thread-1 starting...\n",
      "Thread-1 attempting to update count...\n",
      "Thread-2 starting...\n",
      "Thread-2 attempting to update count...\n",
      "Thread-3 starting...\n",
      "Thread-3 attempting to update count...\n",
      "Thread-4 starting...\n",
      "Thread-4 attempting to update count...\n",
      "Count was updated by thread-1!\n",
      "Thread-0 done.\n",
      "Thread-5 starting...\n",
      "Thread-5 attempting to update count...\n",
      "Count was updated by thread-2!\n",
      "Thread-1 done.\n",
      "Thread-6 starting...\n",
      "Thread-6 attempting to update count...\n",
      "Count was updated by thread-3!\n",
      "Thread-2 done.\n",
      "Thread-7 starting...\n",
      "Thread-7 attempting to update count...\n",
      "Count was updated by thread-4!\n",
      "Thread-3 done.\n",
      "Thread-8 starting...\n",
      "Thread-8 attempting to update count...\n",
      "Count was updated by thread-5!\n",
      "Thread-4 done.\n",
      "Thread-9 starting...\n",
      "Thread-9 attempting to update count...\n",
      "Count was updated by thread-6!\n",
      "Thread-5 done.\n",
      "Count was updated by thread-7!\n",
      "Thread-6 done.\n",
      "Count was updated by thread-8!\n",
      "Thread-7 done.\n",
      "Count was updated by thread-9!\n",
      "Thread-8 done.\n",
      "Thread-9 done.\n"
     ]
    }
   ],
   "source": [
    "lock = threading.Lock()\n",
    "count = 0\n",
    "\n",
    "def thread_test(i):\n",
    "    print(f'Thread-{i} attempting to update count...')\n",
    "    with lock:\n",
    "        global count\n",
    "        count += 1\n",
    "        print(f'Count was updated by thread-{i}!')\n",
    "        time.sleep(10)\n",
    "\n",
    "def threader():\n",
    "    while True:\n",
    "        i = q.get()\n",
    "        print(f'Thread-{i} starting...')\n",
    "        thread_test(i)\n",
    "        time.sleep(3)\n",
    "        print(f'Thread-{i} done.')\n",
    "        q.task_done()\n",
    "\n",
    "q = Queue()\n",
    "for x in range(5):\n",
    "    thread = threading.Thread(target=threader)\n",
    "\n",
    "    # thread.daemon = True\n",
    "    thread.start()\n",
    "\n",
    "for job in range(10):\n",
    "    q.put(job)"
   ]
  },
  {
   "cell_type": "code",
   "execution_count": 27,
   "metadata": {},
   "outputs": [
    {
     "name": "stdout",
     "output_type": "stream",
     "text": [
      "10\n"
     ]
    }
   ],
   "source": [
    "print(count)"
   ]
  },
  {
   "cell_type": "code",
   "execution_count": 3,
   "metadata": {},
   "outputs": [
    {
     "data": {
      "text/plain": [
       "'{\"data\": [{\"name\": \"Affandy Fahrizain\", \"link\": \"https://www.linkedin.com/in/fahrizainn/\", \"experiences\": [{\"company\": \"Jakarta Artificial Intelligence Research \\\\u00b7 Full-time\", \"position\": \"Data Science Fellow\", \"duration\": \"Oct 2021 - Present \\\\u00b7 8 mos\", \"location\": \"Jakarta, Indonesia\"}, {\"company\": \"Mitra Informatika \\\\u00b7 Full-time\", \"position\": \"Data Engineer\", \"duration\": \"Dec 2020 - Jun 2021 \\\\u00b7 7 mos\", \"location\": \"Surabaya, East Java, Indonesia\"}, {\"company\": \"Developer Student Clubs\", \"position\": \"Leader, DSC UNAIR\", \"duration\": \"Jul 2019 - Jul 2020 \\\\u00b7 1 yr 1 mo\", \"location\": \"Surabaya, East Java, Indonesia\"}, {\"company\": \"Developer Student Clubs\", \"position\": \"Android Developer Mentor, DSC PENS\", \"duration\": \"Apr 2018 - Jun 2019 \\\\u00b7 1 yr 3 mos\", \"location\": \"Surabaya, East Java, Indonesia\"}]}]}'"
      ]
     },
     "execution_count": 3,
     "metadata": {},
     "output_type": "execute_result"
    }
   ],
   "source": [
    "import pandas as pd\n",
    "import numpy as np\n",
    "import json\n",
    "\n",
    "exp = [{'company': 'Jakarta Artificial Intelligence Research · Full-time',\n",
    "  'position': 'Data Science Fellow',\n",
    "  'duration': 'Oct 2021 - Present · 8 mos',\n",
    "  'location': 'Jakarta, Indonesia'},\n",
    " {'company': 'Mitra Informatika · Full-time',\n",
    "  'position': 'Data Engineer',\n",
    "  'duration': 'Dec 2020 - Jun 2021 · 7 mos',\n",
    "  'location': 'Surabaya, East Java, Indonesia'},\n",
    " {'company': 'Developer Student Clubs',\n",
    "  'position': 'Leader, DSC UNAIR',\n",
    "  'duration': 'Jul 2019 - Jul 2020 · 1 yr 1 mo',\n",
    "  'location': 'Surabaya, East Java, Indonesia'},\n",
    " {'company': 'Developer Student Clubs',\n",
    "  'position': 'Android Developer Mentor, DSC PENS',\n",
    "  'duration': 'Apr 2018 - Jun 2019 · 1 yr 3 mos',\n",
    "  'location': 'Surabaya, East Java, Indonesia'}]\n",
    "\n",
    "courses = [{'course': 'Introduction to Tableau', 'organization': 'DataCamp'},\n",
    " {'course': 'Analyzing Police Activity with pandas',\n",
    "  'organization': 'DataCamp'},\n",
    " {'course': 'Cleaning Data in Python', 'organization': 'DataCamp'},\n",
    " {'course': 'Exploratory Data Analysis in Python', 'organization': 'DataCamp'},\n",
    " {'course': 'Introduction to SQL', 'organization': 'DataCamp'},\n",
    " {'course': 'Joining Data in SQL', 'organization': 'DataCamp'},\n",
    " {'course': 'Streamlined Data Ingestion with pandas',\n",
    "  'organization': 'DataCamp'},\n",
    " {'course': 'Data Analysis Using Python', 'organization': 'IBM'},\n",
    " {'course': 'Data Science for Business - Level 1', 'organization': 'IBM'},\n",
    " {'course': 'Data Visualization Using Python', 'organization': 'IBM'},\n",
    " {'course': 'Deep Learning Essentials', 'organization': 'IBM'},\n",
    " {'course': 'Enterprise Design Thinking Practitioner', 'organization': 'IBM'},\n",
    " {'course': 'Intermediate Importing Data in Python',\n",
    "  'organization': 'DataCamp'},\n",
    " {'course': 'Introduction to Data Visualization with Matplotlib',\n",
    "  'organization': 'DataCamp'},\n",
    " {'course': 'Introduction to Data Visualization with Seaborn',\n",
    "  'organization': 'DataCamp'},\n",
    " {'course': 'Introduction to Importing Data in Python',\n",
    "  'organization': 'DataCamp'},\n",
    " {'course': 'Joining Data with pandas', 'organization': 'DataCamp'},\n",
    " {'course': 'Machine Learning with Python - Level 1', 'organization': 'IBM'},\n",
    " {'course': 'Python for Data Science', 'organization': 'IBM'},\n",
    " {'course': 'Big Data Foundations - Level 1', 'organization': 'IBM'},\n",
    " {'course': 'Cloud Core', 'organization': 'IBM'},\n",
    " {'course': 'Data Manipulation with pandas', 'organization': 'DataCamp'},\n",
    " {'course': 'Data Science Foundations - Level 1', 'organization': 'IBM'},\n",
    " {'course': 'Data Science Foundations - Level 2 (V2)', 'organization': 'IBM'},\n",
    " {'course': 'Data Science Methodologies', 'organization': 'IBM'},\n",
    " {'course': 'Introduction to Data Science in Python',\n",
    "  'organization': 'DataCamp'},\n",
    " {'course': 'Watson Studio Essentials', 'organization': 'IBM'},\n",
    " {'course': 'Intermediate Python', 'organization': 'DataCamp'},\n",
    " {'course': 'Belajar Machine Learning untuk Pemula',\n",
    "  'organization': 'Dicoding Indonesia'},\n",
    " {'course': 'Memulai Pemrograman Dengan Python',\n",
    "  'organization': 'Dicoding Indonesia'},\n",
    " {'course': 'Belajar Prinsip Pemrograman SOLID',\n",
    "  'organization': 'Dicoding Academy'},\n",
    " {'course': 'Memulai Pemrograman Dengan Kotlin',\n",
    "  'organization': 'Dicoding Academy'},\n",
    " {'course': 'Belajar Membuat Aplikasi Android untuk Pemula',\n",
    "  'organization': 'Dicoding Indonesia'},\n",
    " {'course': 'Menjadi Azure Cloud Developer',\n",
    "  'organization': 'Dicoding Indonesia'},\n",
    " {'course': 'Belajar Membangun Prototype Chatbot Dengan LINE Bot Designer',\n",
    "  'organization': 'Dicoding Indonesia'},\n",
    " {'course': 'Kotlin Android Developer Expert',\n",
    "  'organization': 'Dicoding Indonesia'},\n",
    " {'course': 'Belajar Membuat Aplikasi Kognitif',\n",
    "  'organization': 'Dicoding Indonesia'},\n",
    " {'course': 'Belajar Fundamental Aplikasi Android',\n",
    "  'organization': 'Dicoding Indonesia'},\n",
    " {'course': 'Belajar Membangun LINE Chatbot',\n",
    "  'organization': 'Dicoding Indonesia'}]\n",
    "\n",
    "data = {\n",
    "  'data': [{\n",
    "    'name': 'Affandy Fahrizain',\n",
    "    'link': 'https://www.linkedin.com/in/fahrizainn/',\n",
    "    'experiences': exp,\n",
    "    # 'courses': courses\n",
    "  }]\n",
    "}\n",
    "\n",
    "# json.dumps(data)\n",
    "# pd.DataFrame(data)\n",
    "# pd.read_json(json.dumps(data))\n",
    "jj = json.dumps(data)\n",
    "jl = json.loads(jj)\n",
    "jl['data'].append({\n",
    "    'name': 'Affandy',\n",
    "    'link': 'https://www.linkedin.com/in/fahrizainn/',\n",
    "    'experiences': exp,\n",
    "    # 'courses': courses\n",
    "  })\n",
    "ju = json.dumps(jl)\n",
    "\n",
    "jj"
   ]
  },
  {
   "cell_type": "code",
   "execution_count": 28,
   "metadata": {},
   "outputs": [],
   "source": [
    "with open('data.json', 'a+', encoding='utf-8') as f:\n",
    "    json.dump(data, f)"
   ]
  },
  {
   "cell_type": "code",
   "execution_count": 7,
   "metadata": {},
   "outputs": [
    {
     "name": "stdout",
     "output_type": "stream",
     "text": [
      "[{'name': 'eef hikmat', 'occupation': 'Student at sekolah tinggi ilmu ekonomi 66', 'profile_link': 'https://linkedin.com/in/eef-hikmat-13332a1a6/', 'circle_level': '1', 'connected_w_user_id': 1, 'connected_w_connection_id': None, 'experiences': None, 'courses': None}, {'name': 'Erika Dwi Puspitasari', 'occupation': 'Student at Airlangga University', 'profile_link': 'https://linkedin.com/in/erika-dwi-puspitasari-965b7318b/', 'circle_level': '1', 'connected_w_user_id': 1, 'connected_w_connection_id': None, 'experiences': None, 'courses': None}, {'name': 'Ekaterina Shlenova', 'occupation': 'HR Manager in Yandex', 'profile_link': 'https://linkedin.com/in/ekaterina-shlenova-714504189/', 'circle_level': '1', 'connected_w_user_id': 1, 'connected_w_connection_id': None, 'experiences': [{'company': 'Yandex', 'position': 'Human Resources Project Manager', 'duration': 'Apr 2022 - Present · 2 mos', 'location': None}, {'company': 'Yandex', 'position': 'IT Recruiter', 'duration': 'Mar 2021 - Present · 1 yr 3 mos', 'location': None}, {'company': 'EY', 'position': 'Consultant, People Advisory Services', 'duration': 'Jul 2020 - Mar 2021 · 9 mos', 'location': 'Москва, Россия'}, {'company': 'EY', 'position': 'Junior Specialist, Graduate Recruitment', 'duration': 'Jan 2020 - Jul 2020 · 7 mos', 'location': 'Москва, Россия'}, {'company': 'EY', 'position': 'Intern, Graduate Recruitment', 'duration': 'Jan 2019 - Jan 2020 · 1 yr 1 mo', 'location': 'Москва, Россия'}], 'courses': None}]\n"
     ]
    }
   ],
   "source": [
    "import json\n",
    "with open('data.json', 'r+', encoding='utf-8') as f:\n",
    "    data = json.load(f)\n",
    "    print(data)\n",
    "    # data['data'].append({\n",
    "    #     'name': 'Affandy',\n",
    "    #     'link': 'https://www.linkedin.com/in/fahrizainn/',\n",
    "    #     'experiences': exp,\n",
    "    #     # 'courses': courses\n",
    "    # })\n",
    "    # f.seek(0)\n",
    "    # json.dump(data, f, indent=4)"
   ]
  },
  {
   "cell_type": "code",
   "execution_count": 30,
   "metadata": {},
   "outputs": [
    {
     "data": {
      "text/plain": [
       "True"
      ]
     },
     "execution_count": 30,
     "metadata": {},
     "output_type": "execute_result"
    }
   ],
   "source": [
    "import os.path\n",
    "\n",
    "os.path.exists('./data.json')"
   ]
  },
  {
   "cell_type": "code",
   "execution_count": 1,
   "metadata": {},
   "outputs": [
    {
     "data": {
      "text/plain": [
       "'C:\\\\Users\\\\fahrizain\\\\anaconda3\\\\Lib\\\\site-packages\\\\pyspark'"
      ]
     },
     "execution_count": 1,
     "metadata": {},
     "output_type": "execute_result"
    }
   ],
   "source": [
    "import findspark\n",
    "findspark.init()\n",
    "findspark.find()"
   ]
  },
  {
   "cell_type": "code",
   "execution_count": 2,
   "metadata": {},
   "outputs": [
    {
     "data": {
      "text/html": [
       "\n",
       "            <div>\n",
       "                <p><b>SparkSession - in-memory</b></p>\n",
       "                \n",
       "        <div>\n",
       "            <p><b>SparkContext</b></p>\n",
       "\n",
       "            <p><a href=\"http://DESKTOP-DLJVOER:4040\">Spark UI</a></p>\n",
       "\n",
       "            <dl>\n",
       "              <dt>Version</dt>\n",
       "                <dd><code>v3.2.1</code></dd>\n",
       "              <dt>Master</dt>\n",
       "                <dd><code>local[*]</code></dd>\n",
       "              <dt>AppName</dt>\n",
       "                <dd><code>pyspark-shell</code></dd>\n",
       "            </dl>\n",
       "        </div>\n",
       "        \n",
       "            </div>\n",
       "        "
      ],
      "text/plain": [
       "<pyspark.sql.session.SparkSession at 0x202c3255e20>"
      ]
     },
     "execution_count": 2,
     "metadata": {},
     "output_type": "execute_result"
    }
   ],
   "source": [
    "from pyspark.sql import SparkSession\n",
    "from pyspark.sql import functions as F\n",
    "\n",
    "spark = SparkSession.builder.getOrCreate()\n",
    "spark"
   ]
  },
  {
   "cell_type": "code",
   "execution_count": 3,
   "metadata": {},
   "outputs": [
    {
     "data": {
      "text/html": [
       "\n",
       "        <div>\n",
       "            <p><b>SparkContext</b></p>\n",
       "\n",
       "            <p><a href=\"http://DESKTOP-DLJVOER:4040\">Spark UI</a></p>\n",
       "\n",
       "            <dl>\n",
       "              <dt>Version</dt>\n",
       "                <dd><code>v3.2.1</code></dd>\n",
       "              <dt>Master</dt>\n",
       "                <dd><code>local[*]</code></dd>\n",
       "              <dt>AppName</dt>\n",
       "                <dd><code>pyspark-shell</code></dd>\n",
       "            </dl>\n",
       "        </div>\n",
       "        "
      ],
      "text/plain": [
       "<SparkContext master=local[*] appName=pyspark-shell>"
      ]
     },
     "execution_count": 3,
     "metadata": {},
     "output_type": "execute_result"
    }
   ],
   "source": [
    "spark.sparkContext"
   ]
  },
  {
   "cell_type": "code",
   "execution_count": 5,
   "metadata": {},
   "outputs": [],
   "source": [
    "tup_data = [\n",
    "    (\n",
    "        'Affandy Fahrizain', \n",
    "        'https://www.linkedin.com/in/fahrizainn/',\n",
    "        (\n",
    "            'Jakarta Artificial Intelligence Research · Full-time',\n",
    "            'Data Science Fellow',\n",
    "            'Oct 2021 - Present · 8 mos',\n",
    "            'Jakarta, Indonesia'\n",
    "        )\n",
    "    )\n",
    "]"
   ]
  },
  {
   "cell_type": "code",
   "execution_count": 6,
   "metadata": {},
   "outputs": [
    {
     "name": "stdout",
     "output_type": "stream",
     "text": [
      "root\n",
      " |-- name: string (nullable = true)\n",
      " |-- link: string (nullable = true)\n",
      " |-- experiences: struct (nullable = true)\n",
      " |    |-- company: string (nullable = true)\n",
      " |    |-- position: string (nullable = true)\n",
      " |    |-- duration: string (nullable = true)\n",
      " |    |-- location: string (nullable = true)\n",
      "\n"
     ]
    }
   ],
   "source": [
    "from pyspark.sql.types import StructType, StructField, StringType\n",
    "scheme = StructType([\n",
    "    StructField('name', StringType(), True),\n",
    "    StructField('link', StringType(), True),\n",
    "    StructField('experiences', StructType([\n",
    "        StructField('company', StringType(), True),\n",
    "        StructField('position', StringType(), True),\n",
    "        StructField('duration', StringType(), True),\n",
    "        StructField('location', StringType(), True)\n",
    "    ]))\n",
    "])\n",
    "\n",
    "spark_df = spark.createDataFrame(data=tup_data, schema=scheme)\n",
    "spark_df.printSchema()"
   ]
  },
  {
   "cell_type": "code",
   "execution_count": 12,
   "metadata": {},
   "outputs": [
    {
     "name": "stdout",
     "output_type": "stream",
     "text": [
      "+-----------------+--------------------+--------------------+\n",
      "|             name|                link|         experiences|\n",
      "+-----------------+--------------------+--------------------+\n",
      "|Affandy Fahrizain|https://www.linke...|{Jakarta Artifici...|\n",
      "+-----------------+--------------------+--------------------+\n",
      "\n"
     ]
    }
   ],
   "source": [
    "spark_df.show()"
   ]
  },
  {
   "cell_type": "code",
   "execution_count": 15,
   "metadata": {},
   "outputs": [
    {
     "name": "stdout",
     "output_type": "stream",
     "text": [
      "+---------------------------------------------------------------------------------------------------------------------------+\n",
      "|experiences                                                                                                                |\n",
      "+---------------------------------------------------------------------------------------------------------------------------+\n",
      "|{Jakarta Artificial Intelligence Research · Full-time, Data Science Fellow, Oct 2021 - Present · 8 mos, Jakarta, Indonesia}|\n",
      "+---------------------------------------------------------------------------------------------------------------------------+\n",
      "\n"
     ]
    }
   ],
   "source": [
    "spark_df.select('experiences').show(truncate=False)"
   ]
  },
  {
   "cell_type": "markdown",
   "metadata": {},
   "source": [
    "# BUG\n",
    "```\n",
    "[hanif] Message: element click intercepted: Element <span class=\"pvs-navigation__text\">...</span> is not clickable at point (337, 10). Other element would receive the click: <section class=\"artdeco-global-alert__body\" data-test-global-alert-body=\"0\">...</section>                                                                              (Session info: chrome=101.0.4951.67)                                                                           Stacktrace:                                                                                                      Backtrace:                                                                                                               Ordinal0 [0x003AB8F3+2406643]                                                                                    Ordinal0 [0x0033AF31+1945393]                                                                                    Ordinal0 [0x0022C748+837448]                                                                                     Ordinal0 [0x0025FA1B+1047067]                                                                                    Ordinal0 [0x0025D9F8+1038840]                                                                                    Ordinal0 [0x0025B6DB+1029851]                                                                                    Ordinal0 [0x0025A439+1025081]                                                                                    Ordinal0 [0x00250083+983171]                                                                                     Ordinal0 [0x0027427C+1131132]                                                                                    Ordinal0 [0x0024FA64+981604]                                                                                     Ordinal0 [0x00274494+1131668]                                                                                    Ordinal0 [0x00284682+1197698]                                                                                    Ordinal0 [0x00274096+1130646]                                                                                    Ordinal0 [0x0024E636+976438]                                                                                     Ordinal0 [0x0024F546+980294]                                                                                     GetHandleVerifier [0x00619612+2498066]                                                                           GetHandleVerifier [0x0060C920+2445600]                                                                           GetHandleVerifier [0x00444F2A+579370]                                                                            GetHandleVerifier [0x00443D36+574774]                                                                            Ordinal0 [0x00341C0B+1973259]                                                                                    Ordinal0 [0x00346688+1992328]                                                                                    Ordinal0 [0x00346775+1992565]                                                                                    Ordinal0 [0x0034F8D1+2029777]                                                                                    BaseThreadInitThunk [0x7533FA29+25]                                                                              RtlGetAppContainerNamedObjectPath [0x770A7A7E+286]                                                               RtlGetAppContainerNamedObjectPath [0x770A7A4E+238]                                                                                                                                                                        [hanif] Getting hanif connection(s)...\n",
    "```"
   ]
  },
  {
   "cell_type": "code",
   "execution_count": null,
   "metadata": {},
   "outputs": [],
   "source": []
  }
 ],
 "metadata": {
  "interpreter": {
   "hash": "e7a7f8887abec87f9a5d5d6418a01cb1f181ea97746d227f5e3ce398a532a8c3"
  },
  "kernelspec": {
   "display_name": "Python 3.8.8 ('base')",
   "language": "python",
   "name": "python3"
  },
  "language_info": {
   "codemirror_mode": {
    "name": "ipython",
    "version": 3
   },
   "file_extension": ".py",
   "mimetype": "text/x-python",
   "name": "python",
   "nbconvert_exporter": "python",
   "pygments_lexer": "ipython3",
   "version": "3.8.8"
  },
  "orig_nbformat": 4
 },
 "nbformat": 4,
 "nbformat_minor": 2
}
